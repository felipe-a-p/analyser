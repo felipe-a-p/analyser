{
 "cells": [
  {
   "attachments": {},
   "cell_type": "markdown",
   "metadata": {},
   "source": [
    "# Imports & Funcoes"
   ]
  },
  {
   "cell_type": "code",
   "execution_count": 285,
   "metadata": {},
   "outputs": [],
   "source": [
    "import requests\n",
    "import datetime as dt\n",
    "from datetime import date, datetime\n",
    "import numpy as np\n",
    "import pandas as pd\n",
    "from dateutil.relativedelta import relativedelta"
   ]
  },
  {
   "cell_type": "code",
   "execution_count": 286,
   "metadata": {},
   "outputs": [],
   "source": [
    "import fdb\n",
    "\n",
    "\n",
    "class db():\n",
    "    conConfServer = {\n",
    "        'database':'Pc-server:c:/Sacwin/Dados/Sacwin21.fdb', \n",
    "        'user':'SYSDBA', \n",
    "        'password':'masterkey'\n",
    "    }\n",
    "    conConfLocal = {\n",
    "        'database':'F:/Users/felip/Desktop/Millenius/Data/backup/Sacwin21.fdb', \n",
    "        'user':'SYSDBA',\n",
    "        'password':'masterkey'\n",
    "    }\n",
    "    conn = {}\n",
    "    \n",
    "    def connect(self):\n",
    "        #self.conn = fdb.connect(database = 'F:/Users/felip/Desktop/Millenius/Data/backup/Sacwin21.fdb', user = 'SYSDBA', password = 'masterkey')\n",
    "        self.conn = fdb.connect(database = 'Pc-server:c:/Sacwin/Dados/Sacwin21.fdb', user = 'SYSDBA', password = 'masterkey')\n",
    "        return self.conn.cursor()\n",
    "    \n",
    "    def fetchOneSQL(self, sql):\n",
    "        sql = sql.upper()\n",
    "        cursor = self.connect()\n",
    "        cursor.execute(sql.upper())\n",
    "        result = cursor.fetchone()\n",
    "        return result\n",
    "    \n",
    "    def fetchAllSQL(self, sql):\n",
    "        cursor = self.connect()\n",
    "        cursor.execute(sql.upper())\n",
    "        result = cursor.fetchall()\n",
    "        return result\n",
    "    \n",
    "datab = db()"
   ]
  },
  {
   "cell_type": "code",
   "execution_count": 287,
   "metadata": {},
   "outputs": [],
   "source": [
    "class conversorSemanas:\n",
    "    def __init__(self, anoSemana) -> None:\n",
    "        self.dataConvertida = self.converterData(anoSemana)\n",
    "        self.mesConvertido = self.dataConvertida.strftime(\"%m/%Y\")\n",
    "        self.anoConvertido = self.dataConvertida.year\n",
    "        \n",
    "    def converterData(self, anoSemana):\n",
    "        ano, semana = map(int, anoSemana.split('/'))\n",
    "        if ano < 100:\n",
    "            # Convertendo ano abreviado para ano de 4 dígitos\n",
    "            ano = 2000 + ano if ano <= dt.datetime.now().year % 100 else 1900 + ano\n",
    "        \n",
    "        # Definir o primeiro dia da semana\n",
    "        data_primeiro_dia_semana = dt.datetime.strptime(f'{ano}-W{semana-1}-1', \"%Y-W%W-%w\")\n",
    "        \n",
    "        # Ajustar para segunda-feira (0) em vez de domingo (6)\n",
    "        if data_primeiro_dia_semana.weekday() == 0:\n",
    "            data_primeiro_dia_semana += dt.timedelta(weeks=1)\n",
    "        \n",
    "        data_completa = data_primeiro_dia_semana.date()\n",
    "        return pd.to_datetime(data_completa).normalize()\n",
    "    \n",
    "# conversor = conversorSemanas('23/02')"
   ]
  },
  {
   "cell_type": "code",
   "execution_count": null,
   "metadata": {},
   "outputs": [],
   "source": []
  },
  {
   "attachments": {},
   "cell_type": "markdown",
   "metadata": {},
   "source": [
    "# Dados"
   ]
  },
  {
   "attachments": {},
   "cell_type": "markdown",
   "metadata": {},
   "source": [
    "## Estrutural"
   ]
  },
  {
   "cell_type": "code",
   "execution_count": 288,
   "metadata": {},
   "outputs": [
    {
     "data": {
      "text/plain": [
       "\"\\n    .apply(lambda x: pd.to_datetime(x+'/1', format= '%y/%W/%w' ))\\n\""
      ]
     },
     "execution_count": 288,
     "metadata": {},
     "output_type": "execute_result"
    }
   ],
   "source": [
    "### Estrutura Base ###\n",
    "\"\"\"\n",
    "tabela = ''\n",
    "dados = datab.fetchAllSQL(f'SELECT * FROM {tabela}')\n",
    "indexItens = datab.fetchAllSQL(f\"select rdb$field_name from rdb$relation_fields where rdb$relation_name='{tabela}'\")\n",
    "# indexItens = []\n",
    "dados = pd.DataFrame(dados)\n",
    "dados.columns = (indexItens)\n",
    "\"\"\"\n",
    "### Tratar anos/sem cobrança\n",
    "\"\"\"\n",
    "    .apply(lambda x: pd.to_datetime(x+'/1', format= '%y/%W/%w' ))\n",
    "\"\"\"\n",
    "\n"
   ]
  },
  {
   "cell_type": "code",
   "execution_count": 289,
   "metadata": {},
   "outputs": [],
   "source": [
    "tabelas = datab.fetchAllSQL('''SELECT a.RDB$RELATION_NAME\n",
    "                            FROM RDB$RELATIONS a\n",
    "                            WHERE COALESCE(RDB$SYSTEM_FLAG, 0) = 0 AND RDB$RELATION_TYPE = 0''')\n",
    "df = pd.DataFrame({'Tabelas': tabelas})\n",
    "df.to_csv('data/lista.txt', sep='\\t', index=False, header=False)"
   ]
  },
  {
   "cell_type": "code",
   "execution_count": null,
   "metadata": {},
   "outputs": [],
   "source": []
  },
  {
   "attachments": {},
   "cell_type": "markdown",
   "metadata": {},
   "source": [
    "## Artigos"
   ]
  },
  {
   "cell_type": "code",
   "execution_count": 290,
   "metadata": {},
   "outputs": [],
   "source": [
    "tabela = 'GRUPOSARTIGOS'\n",
    "grupos = datab.fetchAllSQL(f'SELECT * FROM {tabela}')\n",
    "indexItens = datab.fetchAllSQL(f\"select rdb$field_name from rdb$relation_fields where rdb$relation_name='{tabela}'\")\n",
    "indexItens = [\"id_grupo\", \"descricao_grupo\", \"valor\"]\n",
    "grupos = pd.DataFrame(grupos)\n",
    "grupos.columns = (indexItens)\n",
    "grupos.to_csv('data/grupos.csv', sep= ';', index= False)"
   ]
  },
  {
   "cell_type": "code",
   "execution_count": 291,
   "metadata": {},
   "outputs": [],
   "source": [
    "tabela = 'ARTIGOSPRECOS'\n",
    "precos = datab.fetchAllSQL(f'SELECT * FROM {tabela}')\n",
    "#indexItens = datab.fetchAllSQL(f\"select rdb$field_name from rdb$relation_fields where rdb$relation_name='{tabela}'\")\n",
    "indexItens = ['ref', 'tabela', 'preco_artigo', 'porcentagem_desconto','valor_desconto', 'valor_sugerido', 'comissao_fixa', 'valor_acerto_vendedor']\n",
    "precos = pd.DataFrame(precos)\n",
    "\n",
    "precos.columns = (indexItens)\n",
    "precos = precos.query('tabela == 1')"
   ]
  },
  {
   "cell_type": "code",
   "execution_count": 292,
   "metadata": {},
   "outputs": [],
   "source": [
    "tabela = 'ARTIGOS'\n",
    "artigos = datab.fetchAllSQL(f'SELECT * FROM {tabela}')\n",
    "# indexItens = datab.fetchAllSQL(f\"select rdb$field_name from rdb$relation_fields where rdb$relation_name='{tabela}'\")\n",
    "indexItens = ['ref', 'artigo', 'custo', 'etiqueta', 'id_grupo', 'fornecedor', 'status_artigo', 'nome_modelo', 'ano_modelo', 'ncm', 'grade', 'comissao', 'obs', 'kit', 'caixa', 'atualizar' ]\n",
    "artigos = pd.DataFrame(artigos)\n",
    "artigos.columns = (indexItens)"
   ]
  },
  {
   "cell_type": "code",
   "execution_count": 293,
   "metadata": {},
   "outputs": [],
   "source": [
    "artigos = artigos.drop(columns= ['custo', 'nome_modelo','etiqueta', 'fornecedor', 'ano_modelo', 'ncm', 'grade', 'comissao', 'kit', 'caixa', 'atualizar'])  # type: ignore\n",
    "artigos = pd.merge(artigos, grupos, on= 'id_grupo')\n",
    "artigos.name = 'artigos'\n",
    "artigos = pd.merge(artigos, precos[['ref', 'preco_artigo']], on='ref')"
   ]
  },
  {
   "cell_type": "code",
   "execution_count": 294,
   "metadata": {},
   "outputs": [
    {
     "data": {
      "text/html": [
       "<div>\n",
       "<style scoped>\n",
       "    .dataframe tbody tr th:only-of-type {\n",
       "        vertical-align: middle;\n",
       "    }\n",
       "\n",
       "    .dataframe tbody tr th {\n",
       "        vertical-align: top;\n",
       "    }\n",
       "\n",
       "    .dataframe thead th {\n",
       "        text-align: right;\n",
       "    }\n",
       "</style>\n",
       "<table border=\"1\" class=\"dataframe\">\n",
       "  <thead>\n",
       "    <tr style=\"text-align: right;\">\n",
       "      <th></th>\n",
       "      <th>ref</th>\n",
       "      <th>artigo</th>\n",
       "      <th>id_grupo</th>\n",
       "      <th>status_artigo</th>\n",
       "      <th>obs</th>\n",
       "      <th>descricao_grupo</th>\n",
       "      <th>valor</th>\n",
       "      <th>preco_artigo</th>\n",
       "    </tr>\n",
       "  </thead>\n",
       "  <tbody>\n",
       "    <tr>\n",
       "      <th>0</th>\n",
       "      <td>10006</td>\n",
       "      <td>TANGA SEM COSTURA DIVERSAS</td>\n",
       "      <td>11.0</td>\n",
       "      <td>ATIVO</td>\n",
       "      <td></td>\n",
       "      <td>TANGA COMUM</td>\n",
       "      <td>0</td>\n",
       "      <td>18.9</td>\n",
       "    </tr>\n",
       "    <tr>\n",
       "      <th>1</th>\n",
       "      <td>10007</td>\n",
       "      <td>TANGA COTTON DIVERSAS</td>\n",
       "      <td>11.0</td>\n",
       "      <td>ATIVO</td>\n",
       "      <td></td>\n",
       "      <td>TANGA COMUM</td>\n",
       "      <td>0</td>\n",
       "      <td>12.9</td>\n",
       "    </tr>\n",
       "    <tr>\n",
       "      <th>2</th>\n",
       "      <td>10009</td>\n",
       "      <td>TANGA ROMANTIC DIVERSAS</td>\n",
       "      <td>11.0</td>\n",
       "      <td>ATIVO</td>\n",
       "      <td></td>\n",
       "      <td>TANGA COMUM</td>\n",
       "      <td>0</td>\n",
       "      <td>12.6</td>\n",
       "    </tr>\n",
       "    <tr>\n",
       "      <th>3</th>\n",
       "      <td>10016</td>\n",
       "      <td>TANGA POLI</td>\n",
       "      <td>11.0</td>\n",
       "      <td>ATIVO</td>\n",
       "      <td></td>\n",
       "      <td>TANGA COMUM</td>\n",
       "      <td>0</td>\n",
       "      <td>15.9</td>\n",
       "    </tr>\n",
       "    <tr>\n",
       "      <th>4</th>\n",
       "      <td>10017</td>\n",
       "      <td>TANGA MODA</td>\n",
       "      <td>11.0</td>\n",
       "      <td>ATIVO</td>\n",
       "      <td></td>\n",
       "      <td>TANGA COMUM</td>\n",
       "      <td>0</td>\n",
       "      <td>13.9</td>\n",
       "    </tr>\n",
       "  </tbody>\n",
       "</table>\n",
       "</div>"
      ],
      "text/plain": [
       "     ref                      artigo  id_grupo status_artigo obs  \\\n",
       "0  10006  TANGA SEM COSTURA DIVERSAS      11.0         ATIVO       \n",
       "1  10007       TANGA COTTON DIVERSAS      11.0         ATIVO       \n",
       "2  10009     TANGA ROMANTIC DIVERSAS      11.0         ATIVO       \n",
       "3  10016                  TANGA POLI      11.0         ATIVO       \n",
       "4  10017                  TANGA MODA      11.0         ATIVO       \n",
       "\n",
       "  descricao_grupo valor preco_artigo  \n",
       "0     TANGA COMUM     0         18.9  \n",
       "1     TANGA COMUM     0         12.9  \n",
       "2     TANGA COMUM     0         12.6  \n",
       "3     TANGA COMUM     0         15.9  \n",
       "4     TANGA COMUM     0         13.9  "
      ]
     },
     "execution_count": 294,
     "metadata": {},
     "output_type": "execute_result"
    }
   ],
   "source": [
    "artigos.head()"
   ]
  },
  {
   "cell_type": "code",
   "execution_count": 295,
   "metadata": {},
   "outputs": [],
   "source": [
    "artigos.to_csv('data/artigos.csv', sep= ';', index= False)"
   ]
  },
  {
   "attachments": {},
   "cell_type": "markdown",
   "metadata": {},
   "source": [
    "## Estoque Artigos"
   ]
  },
  {
   "cell_type": "code",
   "execution_count": 296,
   "metadata": {},
   "outputs": [],
   "source": [
    "tabela = 'ARTIGOSCENTROESTOQUE'\n",
    "dados = datab.fetchAllSQL(f'SELECT * FROM {tabela}')\n",
    "indexItens = datab.fetchAllSQL(f\"select rdb$field_name from rdb$relation_fields where rdb$relation_name='{tabela}'\")\n",
    "indexItens = ['ref', 'id_centro_estoque', 'tamanho', 'codigo_de_barras', 'estoque_deposito', 'estoque_rua', 'estoque_embalagem', 'estoque_total', 'quantidade_caixa']\n",
    "dados = pd.DataFrame(dados)\n",
    "dados.columns = (indexItens)"
   ]
  },
  {
   "cell_type": "code",
   "execution_count": 297,
   "metadata": {},
   "outputs": [],
   "source": [
    "dados = dados.drop(columns= ['id_centro_estoque', 'codigo_de_barras', 'estoque_rua', 'estoque_embalagem', 'estoque_total', 'quantidade_caixa'])\n"
   ]
  },
  {
   "cell_type": "code",
   "execution_count": 298,
   "metadata": {},
   "outputs": [],
   "source": [
    "dados.to_csv('data/estoque.csv', sep= ';', index= False)"
   ]
  },
  {
   "attachments": {},
   "cell_type": "markdown",
   "metadata": {},
   "source": [
    "## Promotor"
   ]
  },
  {
   "cell_type": "code",
   "execution_count": 299,
   "metadata": {},
   "outputs": [],
   "source": [
    "tabela = 'VENDEDORES'\n",
    "vendedores = datab.fetchAllSQL(f'SELECT * FROM {tabela}')\n",
    "indexItens = datab.fetchAllSQL(f\"select rdb$field_name from rdb$relation_fields where rdb$relation_name='{tabela}'\")"
   ]
  },
  {
   "cell_type": "code",
   "execution_count": 300,
   "metadata": {},
   "outputs": [],
   "source": [
    "tabela = 'VENDEDORES'\n",
    "vendedores = datab.fetchAllSQL(f'SELECT * FROM {tabela}')\n",
    "indexItens = datab.fetchAllSQL(f\"select rdb$field_name from rdb$relation_fields where rdb$relation_name='{tabela}'\")\n",
    "indexItens = ['id_vendedor', 'descricao_vendedor', 'status_vendedor', 'admissao', 'comissao', 'endereco', 'complemento', 'bairro', 'cidade', 'estado', 'cep', 'telefone', 'rg', 'cpf', 'nascimento', 'placa', 'email', 'sincroniza_auto', 'ordem_artigo_tablet', 'ordens_artigo_novo_tablet', 'editar_comissao', 'zerar_fec', 'conituar_fec', 'impressao_auto', 'alterar_fec', 'sugerir_artigo', 'inicio_cobranca', 'imprimir_pedido_novo', 'exportar_clientes_sacd', 'deixar_pepino', 'fazer_pedido_novo_rua', 'sugerir_cobranca', 'mensagem_debito', 'exportar_digitados', 'exportar_pepinos', 'devolver_tudo', 'fec_nao_entregue', 'artigo_por_comissao', 'somente_leitor', 'inativa_cli_tablet', 'cpf_obrigatorio', 'rec_pepino_fec', 'percentual_kit', 'bloquear_cliente', 'verificar_saldo', 'tabela_precovenda_sacdroid','excluir_venda','edita_comissao_venda', 'utilizar_garantias','devolver_dinheiro_garantias','alterar_aniversario','gps_obrigatorio', 'exibir_financeiro', 'exibir_devolucao', 'bloquear_apos_entregue', 'quantidade_editavel', 'comissao_carteira', 'valor_meta', 'abaixo_meta', 'acima_meta', 'pepinos', 'acertos', 'adicionar_acertos', 'pagar_pepino', 'sincronizar_24h', 'id_comissao', 'comissao_art_sem_comissao', 'comissao_fixa', 'utilizar_notas_reais', 'quantidade_limite_de_credito', 'multiplicador_de_credito', 'valor_limite_abertura', 'pedido_novo', 'valor_pedido_novo', 'valor_pedido_reativar', 'utilizar_vendas', 'tipo_pix', 'chave_pix']\n",
    "vendedores = pd.DataFrame(vendedores)\n",
    "vendedores.columns = (indexItens)"
   ]
  },
  {
   "cell_type": "code",
   "execution_count": 301,
   "metadata": {},
   "outputs": [],
   "source": [
    "vendedores = vendedores.drop(columns= ['email', 'sincroniza_auto', 'ordem_artigo_tablet', 'ordens_artigo_novo_tablet', 'editar_comissao', 'zerar_fec', 'conituar_fec', 'impressao_auto', 'alterar_fec', 'sugerir_artigo', 'inicio_cobranca', 'imprimir_pedido_novo', 'exportar_clientes_sacd', 'deixar_pepino', 'fazer_pedido_novo_rua', 'sugerir_cobranca', 'mensagem_debito', 'exportar_digitados', 'exportar_pepinos', 'devolver_tudo', 'fec_nao_entregue', 'artigo_por_comissao', 'somente_leitor', 'inativa_cli_tablet', 'cpf_obrigatorio', 'rec_pepino_fec', 'percentual_kit', 'bloquear_cliente', 'verificar_saldo', 'tabela_precovenda_sacdroid','excluir_venda','edita_comissao_venda', 'utilizar_garantias','devolver_dinheiro_garantias','alterar_aniversario','gps_obrigatorio', 'exibir_financeiro', 'exibir_devolucao', 'bloquear_apos_entregue', 'quantidade_editavel', 'comissao_carteira', 'valor_meta', 'abaixo_meta', 'acima_meta', 'pepinos', 'acertos', 'adicionar_acertos', 'pagar_pepino', 'sincronizar_24h', 'id_comissao', 'comissao_art_sem_comissao', 'comissao_fixa', 'utilizar_notas_reais', 'quantidade_limite_de_credito', 'multiplicador_de_credito', 'valor_limite_abertura', 'pedido_novo', 'valor_pedido_novo', 'valor_pedido_reativar', 'utilizar_vendas', 'tipo_pix', 'chave_pix'])\n",
    "vendedores.name = 'vendedores'"
   ]
  },
  {
   "cell_type": "code",
   "execution_count": 302,
   "metadata": {},
   "outputs": [],
   "source": [
    "vendedores.to_csv('data/vendedores.csv', sep= ';', index= False)"
   ]
  },
  {
   "attachments": {},
   "cell_type": "markdown",
   "metadata": {},
   "source": [
    "## Praças"
   ]
  },
  {
   "cell_type": "code",
   "execution_count": 303,
   "metadata": {},
   "outputs": [],
   "source": [
    "tabela = 'PRACAS'\n",
    "pracas = datab.fetchAllSQL(f'SELECT * FROM {tabela}')\n",
    "indexItens = datab.fetchAllSQL(f\"select rdb$field_name from rdb$relation_fields where rdb$relation_name='{tabela}'\")\n",
    "indexItens = ['id_praca', 'descricao_praca', 'id_vendedor', 'estoque', 'tipo', 'id_tabela', 'percentual_media', 'semanas_cobranca', 'status_praca', 'limite_credito', 'usar_mensagem', 'mensagem_1', 'mensagem_2', 'mensagem_3', 'aceita_fora_carga', 'obs', 'comissao_fixa', 'multi_kit', 'coletor']\n",
    "pracas = pd.DataFrame(pracas)\n",
    "pracas.columns = (indexItens)"
   ]
  },
  {
   "cell_type": "code",
   "execution_count": 304,
   "metadata": {},
   "outputs": [],
   "source": [
    "pracas = pracas.drop(columns= ['estoque', 'id_tabela', 'percentual_media', 'semanas_cobranca', 'limite_credito', 'usar_mensagem', 'mensagem_2', 'mensagem_3', 'aceita_fora_carga','comissao_fixa', 'multi_kit', 'coletor'])  # type: ignore\n"
   ]
  },
  {
   "cell_type": "code",
   "execution_count": 305,
   "metadata": {},
   "outputs": [],
   "source": [
    "pracas = pracas.merge(vendedores[['id_vendedor','descricao_vendedor']], on= 'id_vendedor')"
   ]
  },
  {
   "cell_type": "code",
   "execution_count": 306,
   "metadata": {},
   "outputs": [],
   "source": [
    "pracas.to_csv(f'data/pracas.csv', sep= ';', index= False)"
   ]
  },
  {
   "attachments": {},
   "cell_type": "markdown",
   "metadata": {},
   "source": [
    "## Sacoleiras"
   ]
  },
  {
   "cell_type": "code",
   "execution_count": 307,
   "metadata": {},
   "outputs": [],
   "source": [
    "tabela = 'SACOLEIRAS'\n",
    "sacoleiras = datab.fetchAllSQL(f'SELECT * FROM {tabela}')\n",
    "indexItens = datab.fetchAllSQL(f\"select rdb$field_name from rdb$relation_fields where rdb$relation_name='{tabela}'\")\n",
    "indexItens = ['id_praca', 'id_sacoleira', 'nome', 'status', 'primeiro_pedido', 'ultimo_pedido', 'comissao', 'indicacao', 'identidade', 'cpf', 'dia_mes', 'ano', 'endereco', 'complemento', 'bairro', 'cidade', 'uf', 'cep', 'telefone', 'email', 'observacao', 'ponto_antes', 'ponto_atual', 'ultimo_pedido_impresso', 'ano_semana_ultimo_pedido_impresso', 'id_contafinanceira', 'perfil', 'sacpro', 'valor_limite_credito', 'data_nascimento', 'contatos', 'gps', 'sacdroid', 'pai', 'mae', 'conjuge', 'spc', 'equipe', 'id_nivel', 'atualizar', 'classificacao', 'data_hora_inclusao', 'data_hora_reserva']\n",
    "sacoleiras = pd.DataFrame(sacoleiras)\n",
    "sacoleiras.columns = (indexItens)"
   ]
  },
  {
   "cell_type": "code",
   "execution_count": 308,
   "metadata": {},
   "outputs": [],
   "source": [
    "infoCidades = pd.read_csv('data/cidades.csv', sep=';')"
   ]
  },
  {
   "cell_type": "code",
   "execution_count": 309,
   "metadata": {},
   "outputs": [],
   "source": [
    "sacoleiras = sacoleiras.drop(columns= ['comissao', 'indicacao', 'dia_mes', 'ano', 'email', 'ponto_antes', 'ponto_atual', 'ultimo_pedido_impresso', 'ano_semana_ultimo_pedido_impresso', 'id_contafinanceira', 'perfil', 'sacpro', 'valor_limite_credito', 'contatos', 'sacdroid', 'pai', 'mae', 'conjuge', 'spc', 'equipe', 'id_nivel', 'atualizar', 'classificacao', 'data_hora_inclusao', 'data_hora_reserva'])"
   ]
  },
  {
   "cell_type": "code",
   "execution_count": 310,
   "metadata": {},
   "outputs": [],
   "source": [
    "sacoleiras = sacoleiras.merge(infoCidades[['uf','cidade', 'latitude','longitude']], on=['cidade', 'uf'])"
   ]
  },
  {
   "cell_type": "code",
   "execution_count": 311,
   "metadata": {},
   "outputs": [],
   "source": [
    "sacoleiras['idade'] = sacoleiras['data_nascimento'].apply(lambda x: 0 if x == None else (date.today().year - x.year))\n",
    "sacoleiras.name = 'sacoleiras'"
   ]
  },
  {
   "cell_type": "code",
   "execution_count": 312,
   "metadata": {},
   "outputs": [],
   "source": [
    "sacoleiras.to_csv(f'data/sacoleiras.csv', sep= ';', index= False)"
   ]
  },
  {
   "attachments": {},
   "cell_type": "markdown",
   "metadata": {},
   "source": [
    "## Cargas"
   ]
  },
  {
   "cell_type": "code",
   "execution_count": 313,
   "metadata": {},
   "outputs": [],
   "source": [
    "tabela = 'CARGAS'\n",
    "cargas = datab.fetchAllSQL(f'SELECT * FROM {tabela}')\n",
    "# indexItens = datab.fetchAllSQL(f\"select rdb$field_name from rdb$relation_fields where rdb$relation_name='{tabela}'\")\n",
    "indexItens = ['id_praca', 'ano_sem_pedido', 'ano_sem_cobranca', 'status', 'pedidos_digitados', 'pedidos_fechados', 'pedidos_pepinos', 'quantidade_total_recebida', 'valor_total_pedidos', 'quantidade_itens', 'valor_total_carga', 'pedidos_transferidos', 'data_lancamento', 'em_uso', 'qtd_kit', 'qtd_kit2', 'qtd_kit3', 'multikit', 'coletor', 'bloqueado']\n",
    "cargas = pd.DataFrame(cargas)\n",
    "cargas.columns = (indexItens)"
   ]
  },
  {
   "cell_type": "code",
   "execution_count": 314,
   "metadata": {},
   "outputs": [],
   "source": [
    "cargas = cargas.drop(columns= ['pedidos_digitados', 'pedidos_fechados', 'pedidos_pepinos', 'quantidade_total_recebida', 'valor_total_pedidos', 'quantidade_itens', 'valor_total_carga', 'pedidos_transferidos', 'data_lancamento', 'em_uso', 'qtd_kit', 'qtd_kit2', 'qtd_kit3', 'multikit', 'coletor'])"
   ]
  },
  {
   "cell_type": "code",
   "execution_count": 315,
   "metadata": {},
   "outputs": [],
   "source": [
    "cargas['ano_sem_pedido_data'] = cargas['ano_sem_pedido'].apply(lambda x: pd.to_datetime(x+'/1', format= '%y/%W/%w' ))\n",
    "cargas['ano_sem_cobranca_data'] = cargas['ano_sem_cobranca'].apply(lambda x: pd.to_datetime(x+'/1', format= '%y/%W/%w' ))\n",
    "cargas.name = 'cargas'"
   ]
  },
  {
   "cell_type": "code",
   "execution_count": 316,
   "metadata": {},
   "outputs": [],
   "source": [
    "cargas.to_csv(f'data/cargas.csv', sep= ';', index= False)"
   ]
  },
  {
   "attachments": {},
   "cell_type": "markdown",
   "metadata": {},
   "source": [
    "## Cargas Artigos"
   ]
  },
  {
   "cell_type": "code",
   "execution_count": 317,
   "metadata": {},
   "outputs": [],
   "source": [
    "tabela = 'CARGASARTIGOS'\n",
    "cargaArtigos = datab.fetchAllSQL(f'SELECT * FROM {tabela}')\n",
    "indexItens = datab.fetchAllSQL(f\"select rdb$field_name from rdb$relation_fields where rdb$relation_name='{tabela}'\")\n",
    "indexItens = ['id_praca', 'ano_sem_pedido', 'id_artigo', 'id_centro_estoque', 'valor_unitario', 'valor_total', 'kit', 'quantidade_recebida', 'quantidade_distribuida', 'quantidade_devolvida', 'quantidade_brinde', 'quantidade_retorno', 'status', 'ordem', 'tabela', 'data_troca', 'id_artigo_old', 'quantidade_rua', 'quantidade_inserida', 'comissao_fixa', 'kit2', 'kit3', 'complemento', 'ordem2', 'ordem3', 'ordemc', 'valor_acerto_vendedor', 'comissao', 'quantidade_suja', 'quantidade_defeito']\n",
    "cargaArtigos = pd.DataFrame(cargaArtigos)\n",
    "cargaArtigos.columns = (indexItens)  # type: ignore"
   ]
  },
  {
   "cell_type": "code",
   "execution_count": 318,
   "metadata": {},
   "outputs": [],
   "source": [
    "cargaArtigos = cargaArtigos.drop(columns=['id_centro_estoque', 'comissao_fixa','kit', 'kit2', 'kit3', 'complemento', 'ordem2', 'ordem3', 'ordemc', 'valor_acerto_vendedor', 'comissao', 'quantidade_suja', 'quantidade_defeito', 'ordem', 'tabela','id_artigo_old', 'quantidade_rua', 'quantidade_inserida', 'data_troca'])"
   ]
  },
  {
   "cell_type": "code",
   "execution_count": 319,
   "metadata": {},
   "outputs": [],
   "source": [
    "## Tratamento de semanas\n",
    "cargaArtigos['ano_sem_pedido_data'] = cargaArtigos['ano_sem_pedido'].apply(lambda x: pd.to_datetime(x+'/1', format= '%y/%W/%w' ))\n",
    "cargaArtigos.name = 'cargaArtigos'\n"
   ]
  },
  {
   "cell_type": "code",
   "execution_count": 320,
   "metadata": {},
   "outputs": [],
   "source": [
    "cargaArtigos.to_csv(f'data/cargaArtigos.csv', sep= ';', index= False)"
   ]
  },
  {
   "attachments": {},
   "cell_type": "markdown",
   "metadata": {},
   "source": [
    "## Pedidos"
   ]
  },
  {
   "cell_type": "code",
   "execution_count": 321,
   "metadata": {},
   "outputs": [],
   "source": [
    "tabela = 'PEDIDOS'\n",
    "pedidos = datab.fetchAllSQL(f'SELECT * FROM {tabela}')\n",
    "indexItens = datab.fetchAllSQL(f\"select rdb$field_name from rdb$relation_fields where rdb$relation_name='{tabela}'\")\n",
    "indexItens = ['id_pedido', 'ano_sem_pedido', 'ano_sem_cobranca', 'id_praca', 'id_sacoleira', 'status', 'quantidade_entregue', 'valor_total_sem_comissao', 'valor_total_com_comissao', 'valor_total_pedido', 'data_retorno', 'obs_encomenda', 'atualizacao', 'impresso', 'coletor', 'data_pedido', 'transferido', 'id_sacoleira_old', 'gps', 'gps_original', 'id_pedido_provisorio', 'id_mostruario', 'em_uso', 'digitador', 'valor_total_comissao_fixa', 'situacao', 'atualizar']\n",
    "pedidos = pd.DataFrame(pedidos)\n",
    "pedidos.columns = (indexItens) # type: ignore"
   ]
  },
  {
   "cell_type": "code",
   "execution_count": 322,
   "metadata": {},
   "outputs": [],
   "source": [
    "pedidos = pedidos.drop(columns= ['obs_encomenda', 'atualizacao', 'impresso', 'coletor', 'transferido', 'id_sacoleira_old', 'gps', 'gps_original', 'id_mostruario', 'em_uso', 'digitador', 'valor_total_comissao_fixa', 'situacao', 'atualizar', 'id_pedido_provisorio'])"
   ]
  },
  {
   "cell_type": "code",
   "execution_count": 323,
   "metadata": {},
   "outputs": [],
   "source": [
    "pedidos = pd.merge(pedidos, pracas[['id_vendedor', 'id_praca', 'descricao_praca', 'descricao_vendedor']], on= 'id_praca')\n",
    "pedidos = pedidos.merge(sacoleiras[['id_sacoleira', 'cidade', 'uf', 'latitude', 'longitude']], on= 'id_sacoleira')"
   ]
  },
  {
   "cell_type": "code",
   "execution_count": 324,
   "metadata": {},
   "outputs": [
    {
     "data": {
      "text/plain": [
       "array(['FECHADO', 'PEPINO', 'DIGITADO', 'TRANSFERIDO'], dtype=object)"
      ]
     },
     "execution_count": 324,
     "metadata": {},
     "output_type": "execute_result"
    }
   ],
   "source": [
    "pedidos['status'].unique()"
   ]
  },
  {
   "cell_type": "code",
   "execution_count": 325,
   "metadata": {},
   "outputs": [],
   "source": [
    "todosAnoSem = pd.concat([pedidos['ano_sem_pedido'], pedidos['ano_sem_cobranca']]).unique() # type: ignore\n",
    "\n",
    "pedidos['ano_sem_pedido_data'] = pedidos['ano_sem_pedido']\n",
    "pedidos['ano_mes_pedido'] = pedidos['ano_sem_pedido']\n",
    "pedidos['ano_pedido'] = pedidos['ano_sem_pedido']\n",
    "\n",
    "pedidos['ano_sem_cobranca_data'] = pedidos['ano_sem_cobranca']\n",
    "pedidos['ano_mes_cobranca'] = pedidos['ano_sem_cobranca']\n",
    "pedidos['ano_cobranca'] = pedidos['ano_sem_cobranca']\n",
    "\n",
    "for anoSemana in todosAnoSem:\n",
    "    conversor = conversorSemanas(anoSemana)\n",
    "    pedidos['ano_sem_pedido_data'] = pedidos['ano_sem_pedido_data'].replace(anoSemana, conversor.dataConvertida)\n",
    "    pedidos['ano_mes_pedido'] = pedidos['ano_mes_pedido'].replace(anoSemana, conversor.mesConvertido)\n",
    "    pedidos['ano_pedido'] = pedidos['ano_pedido'].replace(anoSemana, conversor.anoConvertido)\n",
    "    \n",
    "    pedidos['ano_sem_cobranca_data'] = pedidos['ano_sem_cobranca_data'].replace(anoSemana, conversor.dataConvertida)\n",
    "    pedidos['ano_mes_cobranca'] = pedidos['ano_mes_cobranca'].replace(anoSemana, conversor.mesConvertido)\n",
    "    pedidos['ano_cobranca'] = pedidos['ano_cobranca'].replace(anoSemana, conversor.anoConvertido)"
   ]
  },
  {
   "cell_type": "code",
   "execution_count": 326,
   "metadata": {},
   "outputs": [],
   "source": [
    "#pedidos.to_csv(f'data/pedidos.csv', sep= ';', index= False)"
   ]
  },
  {
   "attachments": {},
   "cell_type": "markdown",
   "metadata": {},
   "source": [
    "## Fechamentos"
   ]
  },
  {
   "cell_type": "code",
   "execution_count": 327,
   "metadata": {},
   "outputs": [],
   "source": [
    "tabela = 'FECHAMENTO'\n",
    "fechamentos = datab.fetchAllSQL(f'SELECT * FROM {tabela}')\n",
    "#indexItens = datab.fetchAllSQL(f\"select rdb$field_name from rdb$relation_fields where rdb$relation_name='{tabela}'\")\n",
    "indexItens = ['id_pedido', 'status', 'ano_sem_pedido', 'ano_sem_cobranca', 'quant_devolvida', 'quant_vendida', 'valor_venda_pedido', 'per_comissao', 'valor_comissao_sacoleira', 'valor_liquido', 'valor_sem_comissao', 'valor_liquido_recebido', 'valor_recebido', 'valor_pepino', 'valor_fator_venda', 'valor_dinheiro', 'valor_cheque', 'valor_cartao', 'data_fechamento', 'hora_fechamento', 'quantidade_devolvida_original', 'valor_venda_original', 'data_conferencia', 'data_fechamento_vazia', 'status_original', 'data_original', 'hora_original', 'gps', 'gps_original', 'valor_boleto', 'valor_deposito', 'valor_credito', 'valor_debito', 'valor_vend_ped_com_fixa', 'valor_vend_liq_ped_com_fixa']\n",
    "fechamentos = pd.DataFrame(fechamentos)\n",
    "fechamentos.columns = (indexItens) # type: ignore"
   ]
  },
  {
   "cell_type": "code",
   "execution_count": 328,
   "metadata": {},
   "outputs": [],
   "source": [
    "fechamentos = fechamentos.drop(columns= ['valor_sem_comissao', 'gps', 'gps_original', 'valor_boleto', 'valor_deposito', 'valor_credito', 'valor_debito', 'valor_vend_ped_com_fixa', 'valor_vend_liq_ped_com_fixa', 'data_conferencia', 'data_fechamento_vazia'])\n"
   ]
  },
  {
   "cell_type": "code",
   "execution_count": 329,
   "metadata": {},
   "outputs": [],
   "source": [
    "fechamentos = pd.merge(fechamentos, pedidos[['id_vendedor', 'id_praca', 'id_pedido', 'valor_total_pedido', 'id_sacoleira']], on= 'id_pedido', how='left' )\n",
    "fechamentos = pd.merge(fechamentos, pracas[['id_praca', 'descricao_praca']], on= 'id_praca', how= 'left')\n",
    "\n",
    "fechamentos = fechamentos.dropna(subset=['id_pedido'])"
   ]
  },
  {
   "cell_type": "code",
   "execution_count": 330,
   "metadata": {},
   "outputs": [],
   "source": [
    "todosAnoSem = pd.concat([fechamentos['ano_sem_pedido'], fechamentos['ano_sem_cobranca']]).unique() # type: ignore\n"
   ]
  },
  {
   "cell_type": "code",
   "execution_count": 331,
   "metadata": {},
   "outputs": [],
   "source": [
    "todosAnoSem = pd.concat([fechamentos['ano_sem_pedido'], fechamentos['ano_sem_cobranca']]).unique() # type: ignore\n",
    "\n",
    "fechamentos['ano_sem_pedido_data'] = fechamentos['ano_sem_pedido']\n",
    "fechamentos['ano_mes_pedido'] = fechamentos['ano_sem_pedido']\n",
    "fechamentos['ano_pedido'] = fechamentos['ano_sem_pedido']\n",
    "\n",
    "fechamentos['ano_sem_cobranca_data'] = fechamentos['ano_sem_cobranca']\n",
    "fechamentos['ano_mes_cobranca'] = fechamentos['ano_sem_cobranca']\n",
    "fechamentos['ano_cobranca'] = fechamentos['ano_sem_cobranca']\n",
    "\n",
    "for anoSemana in todosAnoSem:\n",
    "    conversor = conversorSemanas(anoSemana)\n",
    "    fechamentos['ano_sem_pedido_data'] = fechamentos['ano_sem_pedido_data'].replace(anoSemana, conversor.dataConvertida)\n",
    "    fechamentos['ano_mes_pedido'] = fechamentos['ano_mes_pedido'].replace(anoSemana, conversor.mesConvertido)\n",
    "    fechamentos['ano_pedido'] = fechamentos['ano_pedido'].replace(anoSemana, conversor.anoConvertido)\n",
    "    \n",
    "    fechamentos['ano_sem_cobranca_data'] = fechamentos['ano_sem_cobranca_data'].replace(anoSemana, conversor.dataConvertida)\n",
    "    fechamentos['ano_mes_cobranca'] = fechamentos['ano_mes_cobranca'].replace(anoSemana, conversor.mesConvertido)\n",
    "    fechamentos['ano_cobranca'] = fechamentos['ano_cobranca'].replace(anoSemana, conversor.anoConvertido)"
   ]
  },
  {
   "cell_type": "code",
   "execution_count": 332,
   "metadata": {},
   "outputs": [],
   "source": [
    "fechamentos = fechamentos.dropna()"
   ]
  },
  {
   "cell_type": "code",
   "execution_count": 333,
   "metadata": {},
   "outputs": [],
   "source": [
    "fechamentos.to_csv('data/fechamentos.csv', sep= ';', index= False)"
   ]
  },
  {
   "cell_type": "markdown",
   "metadata": {},
   "source": [
    "# PEDIDOS COMPLETO"
   ]
  },
  {
   "cell_type": "code",
   "execution_count": 334,
   "metadata": {},
   "outputs": [
    {
     "data": {
      "text/plain": [
       "array(['FECHADO', 'PEPINO', 'DIGITADO', 'TRANSFERIDO'], dtype=object)"
      ]
     },
     "execution_count": 334,
     "metadata": {},
     "output_type": "execute_result"
    }
   ],
   "source": [
    "pedidos['status'].unique()"
   ]
  },
  {
   "cell_type": "code",
   "execution_count": 335,
   "metadata": {},
   "outputs": [],
   "source": [
    "pedidos = pedidos.merge(fechamentos[['id_pedido', 'quant_vendida', 'valor_venda_pedido', 'valor_liquido']], on='id_pedido', how='left')"
   ]
  },
  {
   "cell_type": "code",
   "execution_count": 336,
   "metadata": {},
   "outputs": [
    {
     "data": {
      "text/plain": [
       "array(['FECHADO', 'PEPINO', 'DIGITADO', 'TRANSFERIDO'], dtype=object)"
      ]
     },
     "execution_count": 336,
     "metadata": {},
     "output_type": "execute_result"
    }
   ],
   "source": [
    "pedidos['status'].unique()"
   ]
  },
  {
   "cell_type": "code",
   "execution_count": null,
   "metadata": {},
   "outputs": [],
   "source": []
  },
  {
   "cell_type": "code",
   "execution_count": 337,
   "metadata": {},
   "outputs": [
    {
     "data": {
      "text/plain": [
       "array(['FECHADO', 'PEPINO', 'DIGITADO', 'TRANSFERIDO'], dtype=object)"
      ]
     },
     "execution_count": 337,
     "metadata": {},
     "output_type": "execute_result"
    }
   ],
   "source": [
    "pedidos.status.unique()"
   ]
  },
  {
   "cell_type": "code",
   "execution_count": 338,
   "metadata": {},
   "outputs": [],
   "source": [
    "pedidos.to_csv(f'data/pedidos.csv', sep= ';', index= False)"
   ]
  },
  {
   "cell_type": "code",
   "execution_count": null,
   "metadata": {},
   "outputs": [],
   "source": []
  },
  {
   "cell_type": "code",
   "execution_count": null,
   "metadata": {},
   "outputs": [],
   "source": [
    "pd.set_option(\"display.max_columns\", None)"
   ]
  },
  {
   "cell_type": "code",
   "execution_count": null,
   "metadata": {},
   "outputs": [],
   "source": []
  },
  {
   "attachments": {},
   "cell_type": "markdown",
   "metadata": {},
   "source": [
    "## Pedidos Pecas"
   ]
  },
  {
   "cell_type": "code",
   "execution_count": null,
   "metadata": {},
   "outputs": [],
   "source": [
    "tabela = 'PEDIDOSARTIGOS'\n",
    "artigosPedido = datab.fetchAllSQL(f'SELECT * FROM {tabela}')\n",
    "# indexItens = datab.fetchAllSQL(f\"select rdb$field_name from rdb$relation_fields where rdb$relation_name='{tabela}'\")\n",
    "indexItens = ['id_pedido', 'ref', 'centro_estoque', 'quantidade_entregue','quantidade_devolvida', 'quantidade_vendida', 'quantidade_divergente', 'valor_unitario', 'valor_entregue', 'valor_vendido', 'status', 'id_praca', 'ano_sem_pedido', 'ano_sem_cobranca', 'quantidade_inserida', 'data_troca', 'id_artigo_velho', 'quantidade_devolvida_original', 'comissao', 'saida_remarcada', 'comissao_fixa']\n",
    "artigosPedido = pd.DataFrame(artigosPedido)\n",
    "artigosPedido.columns = (indexItens) # type: ignore"
   ]
  },
  {
   "cell_type": "code",
   "execution_count": null,
   "metadata": {},
   "outputs": [],
   "source": [
    "artigosPedido = artigosPedido.drop(columns= ['centro_estoque', 'quantidade_divergente', 'id_artigo_velho', 'quantidade_devolvida_original', 'saida_remarcada', 'comissao_fixa', 'quantidade_inserida', 'data_troca', 'comissao'])"
   ]
  },
  {
   "cell_type": "code",
   "execution_count": null,
   "metadata": {},
   "outputs": [],
   "source": [
    "artigosPedido.drop(artigosPedido[artigosPedido['ref'] == 1].index, inplace=True)\n",
    "artigosPedido.drop(artigosPedido[artigosPedido['ref'] == 1001].index, inplace=True)"
   ]
  },
  {
   "cell_type": "code",
   "execution_count": null,
   "metadata": {},
   "outputs": [],
   "source": [
    "artigosPedido = pd.merge(artigosPedido, pedidos[['id_pedido', 'cidade', 'uf', 'latitude', 'longitude', 'id_vendedor', 'descricao_vendedor', 'descricao_praca']], on='id_pedido', how= 'left')\n",
    "artigosPedido = artigosPedido.merge(artigos[['ref', 'artigo']], on='ref', how= 'left')\n"
   ]
  },
  {
   "cell_type": "code",
   "execution_count": null,
   "metadata": {},
   "outputs": [],
   "source": [
    "todosAnoSem = pd.concat([artigosPedido['ano_sem_pedido'], artigosPedido['ano_sem_cobranca']]).unique() # type: ignore\n",
    "\n",
    "artigosPedido['ano_sem_pedido_data'] = artigosPedido['ano_sem_pedido']\n",
    "artigosPedido['ano_mes_pedido'] = artigosPedido['ano_sem_pedido']\n",
    "artigosPedido['ano_pedido'] = artigosPedido['ano_sem_pedido']\n",
    "\n",
    "artigosPedido['ano_sem_cobranca_data'] = artigosPedido['ano_sem_cobranca']\n",
    "artigosPedido['ano_mes_cobranca'] = artigosPedido['ano_sem_cobranca']\n",
    "artigosPedido['ano_cobranca'] = artigosPedido['ano_sem_cobranca']\n",
    "\n",
    "for anoSemana in todosAnoSem:\n",
    "    conversor = conversorSemanas(anoSemana)\n",
    "    artigosPedido['ano_sem_pedido_data'] = artigosPedido['ano_sem_pedido_data'].replace(anoSemana, conversor.dataConvertida)\n",
    "    artigosPedido['ano_mes_pedido'] = artigosPedido['ano_mes_pedido'].replace(anoSemana, conversor.mesConvertido)\n",
    "    artigosPedido['ano_pedido'] = artigosPedido['ano_pedido'].replace(anoSemana, conversor.anoConvertido)\n",
    "    \n",
    "    artigosPedido['ano_sem_cobranca_data'] = artigosPedido['ano_sem_cobranca_data'].replace(anoSemana, conversor.dataConvertida)\n",
    "    artigosPedido['ano_mes_cobranca'] = artigosPedido['ano_mes_cobranca'].replace(anoSemana, conversor.mesConvertido)\n",
    "    artigosPedido['ano_cobranca'] = artigosPedido['ano_cobranca'].replace(anoSemana, conversor.anoConvertido)"
   ]
  },
  {
   "cell_type": "code",
   "execution_count": null,
   "metadata": {},
   "outputs": [],
   "source": []
  },
  {
   "cell_type": "code",
   "execution_count": null,
   "metadata": {},
   "outputs": [],
   "source": []
  },
  {
   "cell_type": "code",
   "execution_count": null,
   "metadata": {},
   "outputs": [],
   "source": [
    "artigosPedido.to_csv(f'data/artigosPedido.csv', sep= ';', index= False)"
   ]
  },
  {
   "attachments": {},
   "cell_type": "markdown",
   "metadata": {},
   "source": [
    "## Desempenhos Praças"
   ]
  },
  {
   "cell_type": "code",
   "execution_count": null,
   "metadata": {},
   "outputs": [],
   "source": [
    "tabela = 'DESEMPENHOPRACAS'\n",
    "desempenhoPraca = datab.fetchAllSQL(f'SELECT * FROM {tabela}')\n",
    "indexItens = datab.fetchAllSQL(f\"select rdb$field_name from rdb$relation_fields where rdb$relation_name='{tabela}'\")\n",
    "indexItens = ['id_desempenhopraca', 'id_praca', 'ano_sem_cobranca', 'id_vendedor', 'valor_total_venda', 'pedidos_novos', 'pedidos_digitados', 'pedidos_fechados', 'pedidos_pepinos', 'nao_sei', 'total_bruto_cobranca', 'total_novos_pepinos', 'per_pepino_cobranca', 'valor_recebido', 'valor_pepino_recebidos', 'total_recebido', 'media_comissao_cliente', 'vl_total_pedidos_liquido', 'fator_cobranca', 'valor_comissao_vendedor', 'comissao_vendedor_valor', 'ajuda_de_custo', 'nao_sei_2', 'faturamento_liquido', 'dinheiro_entregue', 'deposito', 'nao_sei_3', 'cheque', 'nao_sei_5', 'cheques_sf_novos', 'valor_total_pepinos_abertos', 'valor_pepinos_cobranca_anterior', 'valor_total_cheques_abertos', 'valor_cheques_cobranca_anterior', 'pedidos_novos_pep', 'codigo_pep_ab', 'pedidos_novos_ch_ab', 'codigo_cheques_ab', 'nao_sei_10', 'cliente_abaixo_meta', 'cod_clientes_abaixo_meta', 'clientes_novos', 'valor_medio_recebido', 'cartao', 'ano_sem_ped', 'nao_sei_6', 'valor_desconto', 'per_com_ven_sc', 'valor_com_vend_sc', 'per_com_vend_fix', 'valor_com_vend_rt_fix', 'clientes_venda_media_abaixo_meta', 'clientes_ped_novo_abaixo_meta', 'clientes_ped_novo_media_abaixo_meta', 'pedidos_transferidos_cobrados', 'notas_reais', 'per_comissao_cliente', 'valor_comissao_cliente', 'pd_venda', 'valor_total_pd_venda']\n",
    "desempenhoPraca = pd.DataFrame(desempenhoPraca)\n",
    "desempenhoPraca.columns = (indexItens)"
   ]
  },
  {
   "cell_type": "code",
   "execution_count": null,
   "metadata": {},
   "outputs": [],
   "source": [
    "desempenhoPraca = pd.merge(desempenhoPraca, pracas[['id_praca','descricao_praca', 'status_praca']], on= 'id_praca')\n",
    "desempenhoPraca = pd.merge(desempenhoPraca, vendedores[['id_vendedor', 'descricao_vendedor']], on= 'id_vendedor')\n"
   ]
  },
  {
   "cell_type": "code",
   "execution_count": null,
   "metadata": {},
   "outputs": [],
   "source": [
    "desempenhoPraca['ano_sem_pedido_data'] = desempenhoPraca['ano_sem_ped'].apply(lambda x: pd.to_datetime(x+'/1', format= '%y/%W/%w'))\n",
    "desempenhoPraca['ano_sem_cobranca_data'] = desempenhoPraca['ano_sem_cobranca'].apply(lambda x: pd.to_datetime(x+'/1', format= '%y/%W/%w'))\n",
    "desempenhoPraca['ano_mes_pedido'] = desempenhoPraca['ano_sem_pedido_data'].dt.strftime('%Y-%m')\n",
    "desempenhoPraca['ano_mes_cobranca'] = desempenhoPraca['ano_sem_cobranca_data'].dt.strftime('%Y-%m')\n",
    "desempenhoPraca['ano_cobranca'] = desempenhoPraca['ano_sem_cobranca_data'].dt.strftime('%Y').astype(int)\n",
    "desempenhoPraca['mes_cobranca'] = desempenhoPraca['ano_sem_cobranca_data'].dt.strftime('%m').astype(int)"
   ]
  },
  {
   "cell_type": "code",
   "execution_count": null,
   "metadata": {},
   "outputs": [],
   "source": [
    "desempenhoPraca = desempenhoPraca.drop(columns= ['nao_sei', 'per_pepino_cobranca', 'nao_sei_2', 'dinheiro_entregue', 'deposito', 'nao_sei_3', 'cheque', 'nao_sei_5', 'cheques_sf_novos', 'valor_total_pepinos_abertos', 'valor_pepinos_cobranca_anterior', 'valor_total_cheques_abertos', 'valor_cheques_cobranca_anterior', 'pedidos_novos_pep', 'codigo_pep_ab', 'pedidos_novos_ch_ab', 'codigo_cheques_ab', 'nao_sei_10', 'cartao', 'nao_sei_6', 'valor_desconto', 'per_com_ven_sc', 'valor_com_vend_sc', 'per_com_vend_fix', 'valor_com_vend_rt_fix', 'pedidos_transferidos_cobrados', 'notas_reais', 'per_comissao_cliente', 'valor_comissao_cliente', 'pd_venda', 'valor_total_pd_venda'])  # type: ignore\n"
   ]
  },
  {
   "cell_type": "code",
   "execution_count": null,
   "metadata": {},
   "outputs": [],
   "source": []
  },
  {
   "cell_type": "code",
   "execution_count": null,
   "metadata": {},
   "outputs": [],
   "source": [
    "desempenhoPraca.to_csv('data/desempenhoPraca.csv', sep= ';', index= False)"
   ]
  },
  {
   "attachments": {},
   "cell_type": "markdown",
   "metadata": {},
   "source": [
    "## Outros"
   ]
  },
  {
   "cell_type": "code",
   "execution_count": null,
   "metadata": {},
   "outputs": [],
   "source": []
  }
 ],
 "metadata": {
  "kernelspec": {
   "display_name": "Python 3",
   "language": "python",
   "name": "python3"
  },
  "language_info": {
   "codemirror_mode": {
    "name": "ipython",
    "version": 3
   },
   "file_extension": ".py",
   "mimetype": "text/x-python",
   "name": "python",
   "nbconvert_exporter": "python",
   "pygments_lexer": "ipython3",
   "version": "3.8.5"
  },
  "orig_nbformat": 4,
  "vscode": {
   "interpreter": {
    "hash": "bea294ee008d20969dc05d3aa98cf932d33529394c06cf2ff24ec82670e3759e"
   }
  }
 },
 "nbformat": 4,
 "nbformat_minor": 2
}
