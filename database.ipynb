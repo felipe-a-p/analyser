{
 "cells": [
  {
   "attachments": {},
   "cell_type": "markdown",
   "metadata": {},
   "source": [
    "# Imports & Funcoes"
   ]
  },
  {
   "cell_type": "code",
   "execution_count": 144,
   "metadata": {},
   "outputs": [],
   "source": [
    "import requests\n",
    "import datetime as dt\n",
    "from datetime import date, datetime\n",
    "import numpy as np\n",
    "import pandas as pd\n",
    "from dateutil.relativedelta import relativedelta"
   ]
  },
  {
   "cell_type": "code",
   "execution_count": 145,
   "metadata": {},
   "outputs": [],
   "source": [
    "import fdb\n",
    "\n",
    "\n",
    "class dbBKP():\n",
    "    conConfServer = {\n",
    "        'database':'Pc-server:c:/Sacwin/Dados/Sacwin21.fdb', \n",
    "        'user':'SYSDBA', \n",
    "        'password':'masterkey'\n",
    "    }\n",
    "    conConfLocal = {\n",
    "        'database':'F:/Users/felip/Desktop/Millenius/Data/backup/Sacwin21.fdb', \n",
    "        'user':'SYSDBA',\n",
    "        'password':'masterkey'\n",
    "    }\n",
    "    conn = {}\n",
    "    \n",
    "    def connect(self):\n",
    "        #self.conn = fdb.connect(database = 'F:/Users/felip/Desktop/Millenius/Data/backup/Sacwin21.fdb', user = 'SYSDBA', password = 'masterkey')\n",
    "        self.conn = fdb.connect(database = 'Pc-server:c:/Sacwin/Dados/Sacwin21.fdb', user = 'SYSDBA', password = 'masterkey')\n",
    "        #self.conn = fdb.connect(database = '100.96.1.5c:/Sacwin/Dados/Sacwin21.fdb', user = 'SYSDBA', password = 'masterkey')\n",
    "        return self.conn.cursor()\n",
    "    \n",
    "    def fetchOneSQL(self, sql):\n",
    "        sql = sql.upper()\n",
    "        cursor = self.connect()\n",
    "        cursor.execute(sql.upper())\n",
    "        result = cursor.fetchone()\n",
    "        return result\n",
    "    \n",
    "    def fetchAllSQL(self, sql):\n",
    "        cursor = self.connect()\n",
    "        cursor.execute(sql.upper())\n",
    "        result = cursor.fetchall()\n",
    "        return result\n",
    "    \n",
    "#datab = db()"
   ]
  },
  {
   "cell_type": "code",
   "execution_count": 146,
   "metadata": {},
   "outputs": [],
   "source": [
    "class Db:\n",
    "    def __init__(self, host, database, user, password, fb_library_path):\n",
    "        self.conn = fdb.connect(\n",
    "            host=host,\n",
    "            database=database,\n",
    "            user=user,\n",
    "            password=password,\n",
    "            fb_library_name=fb_library_path\n",
    "        )\n",
    "    \n",
    "    def fetchOneSQL(self, sql):\n",
    "        cursor = self.conn.cursor()\n",
    "        cursor.execute(sql)\n",
    "        result = cursor.fetchone()\n",
    "        cursor.close()\n",
    "        return result\n",
    "    \n",
    "    def fetchAllSQL(self, sql):\n",
    "        cursor = self.conn.cursor()\n",
    "        cursor.execute(sql)\n",
    "        result = cursor.fetchall()\n",
    "        cursor.close()\n",
    "        return result\n",
    "\n",
    "# Exemplo de uso:\n",
    "host = 'PC-SERVER'  # Substitua pelo endereço IP do seu servidor\n",
    "database = '/Sacwin/Dados/Sacwin21.fdb'  # Substitua pelo caminho correto para o seu banco de dados no servidor\n",
    "user = 'SYSDBA'\n",
    "password = 'masterkey'\n",
    "fb_library_path = 'C:/Program Files/Firebird/Firebird_3_0/fbclient.dll'  # Substitua pelo caminho completo para a biblioteca fbclient.dll\n",
    "datab = Db(host, database, user, password, fb_library_path)\n",
    "\n",
    "\n"
   ]
  },
  {
   "cell_type": "code",
   "execution_count": 147,
   "metadata": {},
   "outputs": [],
   "source": [
    "class conversorSemanas:\n",
    "    def __init__(self, anoSemana) -> None:\n",
    "        self.dataConvertida = self.converterData(anoSemana)\n",
    "        self.mesConvertido = self.dataConvertida.strftime(\"%m/%Y\")\n",
    "        self.anoConvertido = self.dataConvertida.year\n",
    "        \n",
    "    def converterData(self, anoSemana):\n",
    "        ano, semana = map(int, anoSemana.split('/'))\n",
    "        if ano < 100:\n",
    "            # Convertendo ano abreviado para ano de 4 dígitos\n",
    "            ano = 2000 + ano if ano <= dt.datetime.now().year % 100 else 1900 + ano\n",
    "        \n",
    "        # Definir o primeiro dia da semana\n",
    "        data_primeiro_dia_semana = dt.datetime.strptime(f'{ano}-W{semana-1}-1', \"%Y-W%W-%w\")\n",
    "        \n",
    "        # Ajustar para segunda-feira (0) em vez de domingo (6)\n",
    "        if data_primeiro_dia_semana.weekday() == 0:\n",
    "            data_primeiro_dia_semana += dt.timedelta(weeks=1)\n",
    "        \n",
    "        data_completa = data_primeiro_dia_semana.date()\n",
    "        return pd.to_datetime(data_completa).normalize()\n",
    "    \n",
    "# conversor = conversorSemanas('23/02')"
   ]
  },
  {
   "cell_type": "code",
   "execution_count": null,
   "metadata": {},
   "outputs": [],
   "source": []
  },
  {
   "attachments": {},
   "cell_type": "markdown",
   "metadata": {},
   "source": [
    "# Dados"
   ]
  },
  {
   "attachments": {},
   "cell_type": "markdown",
   "metadata": {},
   "source": [
    "## Estrutural"
   ]
  },
  {
   "cell_type": "code",
   "execution_count": 148,
   "metadata": {},
   "outputs": [
    {
     "data": {
      "text/plain": [
       "\"\\n    .apply(lambda x: pd.to_datetime(x+'/1', format= '%y/%W/%w' ))\\n\""
      ]
     },
     "execution_count": 148,
     "metadata": {},
     "output_type": "execute_result"
    }
   ],
   "source": [
    "### Estrutura Base ###\n",
    "\"\"\"\n",
    "tabela = ''\n",
    "dados = datab.fetchAllSQL(f'SELECT * FROM {tabela}')\n",
    "indexItens = datab.fetchAllSQL(f\"select rdb$field_name from rdb$relation_fields where rdb$relation_name='{tabela}'\")\n",
    "# indexItens = []\n",
    "dados = pd.DataFrame(dados)\n",
    "dados.columns = (indexItens)\n",
    "\"\"\"\n",
    "### Tratar anos/sem cobrança\n",
    "\"\"\"\n",
    "    .apply(lambda x: pd.to_datetime(x+'/1', format= '%y/%W/%w' ))\n",
    "\"\"\"\n",
    "\n"
   ]
  },
  {
   "cell_type": "code",
   "execution_count": 202,
   "metadata": {},
   "outputs": [],
   "source": [
    "tabelas = datab.fetchAllSQL('''SELECT a.RDB$RELATION_NAME\n",
    "                            FROM RDB$RELATIONS a\n",
    "                            WHERE COALESCE(RDB$SYSTEM_FLAG, 0) = 0 AND RDB$RELATION_TYPE = 0''')\n",
    "df = pd.DataFrame({'Tabelas': tabelas})\n",
    "df.to_csv('data/lista.txt', sep='\\t', index=False, header=False)"
   ]
  },
  {
   "cell_type": "code",
   "execution_count": 203,
   "metadata": {},
   "outputs": [
    {
     "data": {
      "text/plain": [
       "[('ACERTO                         ',),\n",
       " ('ANOSEMANA                      ',),\n",
       " ('ARTIGOS                        ',),\n",
       " ('ARTIGOSCENTROESTOQUE           ',),\n",
       " ('ARTIGOSFOTOS                   ',),\n",
       " ('ARTIGOSPRECOS                  ',),\n",
       " ('ATUALIZACOESVIANET             ',),\n",
       " ('BANCOS                         ',),\n",
       " ('BRINDES                        ',),\n",
       " ('CARGAS                         ',),\n",
       " ('CARGASARTIGOS                  ',),\n",
       " ('CARGASARTIGOSTAM               ',),\n",
       " ('CENTROSDEESTOQUE               ',),\n",
       " ('CHEQUESDEVOLVIDOS              ',),\n",
       " ('CHEQUESRECEBIDOS               ',),\n",
       " ('COMPLEMENTOS                   ',),\n",
       " ('COMPOSICOES                    ',),\n",
       " ('COMPLEMENTOSARTIGOS            ',),\n",
       " ('COMPLEMENTOSENTREGUES          ',),\n",
       " ('COMPRAS                        ',),\n",
       " ('COMPRASARTIGOS                 ',),\n",
       " ('CONDICAOPAGAMENTO              ',),\n",
       " ('CONFIGURACOES                  ',),\n",
       " ('SUBGRUPOS                      ',),\n",
       " ('CONSULTAS                      ',),\n",
       " ('GARANTIAS                      ',),\n",
       " ('CONSULTASPC                    ',),\n",
       " ('CREDITOSCOMISSAOEQUIPE         ',),\n",
       " ('NIVEIS                         ',),\n",
       " ('ARTIGOSEXCLUIDOS               ',),\n",
       " ('GARANTIASARTIGOS               ',),\n",
       " ('CONTACORRENTEVENDEDOR          ',),\n",
       " ('CONTAFINANCEIRA                ',),\n",
       " ('CONTASAPAGAR                   ',),\n",
       " ('CONTASARECEBER                 ',),\n",
       " ('DEPOSITOS                      ',),\n",
       " ('DESEMPENHOPRACAS               ',),\n",
       " ('DEVOLUCAO                      ',),\n",
       " ('DIFERENCAPECASFECHAMENTO       ',),\n",
       " ('ENCOMENDAS                     ',),\n",
       " ('FECHAMENTO                     ',),\n",
       " ('FECHAMENTODIA                  ',),\n",
       " ('FORNECEDORES                   ',),\n",
       " ('FUNCIONARIOS                   ',),\n",
       " ('GRUPOSARTIGOS                  ',),\n",
       " ('GRUPOSUSUARIOS                 ',),\n",
       " ('MOVENCOMENDAS                  ',),\n",
       " ('MOVESTOQUEARTIGOS              ',),\n",
       " ('MOVIMENTACAOESTOQUE            ',),\n",
       " ('MOVIMENTOESTOQUE               ',),\n",
       " ('P1                             ',),\n",
       " ('PAGAMENTOS                     ',),\n",
       " ('PAGAMENTOSFORNECEDORES         ',),\n",
       " ('PEDIDOS                        ',),\n",
       " ('PEDIDOSARTIGOS                 ',),\n",
       " ('PEDIDOSARTIGOSCE               ',),\n",
       " ('PEDIDOSARTIGOSTAM              ',),\n",
       " ('PEDIDOSCE                      ',),\n",
       " ('PEDIDOSCOBRADOSDEVOLVIDOS      ',),\n",
       " ('PEDIDOSENTREGUES               ',),\n",
       " ('PEDIDOSPECAS                   ',),\n",
       " ('PEDIDOSTRANSFERIDOS            ',),\n",
       " ('PEPINOS                        ',),\n",
       " ('PRACAS                         ',),\n",
       " ('RELACIONAMENTOS                ',),\n",
       " ('RETORNOCARGA                   ',),\n",
       " ('SACOLEIRAS                     ',),\n",
       " ('CAIXAS                         ',),\n",
       " ('TEXTOS                         ',),\n",
       " ('TIPOSPAGAMENTOS                ',),\n",
       " ('TROCAS                         ',),\n",
       " ('TROCASARTIGOS                  ',),\n",
       " ('PEDIDOSARTIGOSREMARCADOS       ',),\n",
       " ('PEPINOSVENDEDORES              ',),\n",
       " ('PLANODECONTAS                  ',),\n",
       " ('USUARIOS                       ',),\n",
       " ('VENDAS                         ',),\n",
       " ('SACOLEIRASKITS                 ',),\n",
       " ('VENDASARTIGOS                  ',),\n",
       " ('VENDASARTIGOSTAM               ',),\n",
       " ('VENDEDORES                     ',),\n",
       " ('PEDIDOSEXCLUIDOS               ',),\n",
       " ('SACOLEIRASEXCLUIDAS            ',),\n",
       " ('SALDOCAIXA                     ',),\n",
       " ('VENDEDORESCOMISSAO             ',)]"
      ]
     },
     "execution_count": 203,
     "metadata": {},
     "output_type": "execute_result"
    }
   ],
   "source": [
    "tabelas"
   ]
  },
  {
   "attachments": {},
   "cell_type": "markdown",
   "metadata": {},
   "source": [
    "## Artigos"
   ]
  },
  {
   "cell_type": "code",
   "execution_count": 150,
   "metadata": {},
   "outputs": [],
   "source": [
    "tabela = 'GRUPOSARTIGOS'\n",
    "grupos = datab.fetchAllSQL(f'SELECT * FROM {tabela}')\n",
    "indexItens = datab.fetchAllSQL(f\"select rdb$field_name from rdb$relation_fields where rdb$relation_name='{tabela}'\")\n",
    "indexItens = [\"id_grupo\", \"descricao_grupo\", \"valor\"]\n",
    "grupos = pd.DataFrame(grupos)\n",
    "grupos.columns = (indexItens)\n",
    "grupos.to_csv('data/grupos.csv', sep= ';', index= False)"
   ]
  },
  {
   "cell_type": "code",
   "execution_count": 207,
   "metadata": {},
   "outputs": [],
   "source": [
    "tabela = 'SUBGRUPOS'\n",
    "subgrupos = datab.fetchAllSQL(f'SELECT * FROM {tabela}')\n",
    "#indexItens = datab.fetchAllSQL(f\"select rdb$field_name from rdb$relation_fields where rdb$relation_name='{tabela}'\")\n",
    "indexItens = [\"id_subgrupo\", \"descricao_subgrupo\"]\n",
    "subgrupos = pd.DataFrame(subgrupos)\n",
    "subgrupos.columns = (indexItens)\n",
    "subgrupos.to_csv('data/grupos.csv', sep= ';', index= False)"
   ]
  },
  {
   "cell_type": "code",
   "execution_count": 208,
   "metadata": {},
   "outputs": [
    {
     "data": {
      "text/html": [
       "<div>\n",
       "<style scoped>\n",
       "    .dataframe tbody tr th:only-of-type {\n",
       "        vertical-align: middle;\n",
       "    }\n",
       "\n",
       "    .dataframe tbody tr th {\n",
       "        vertical-align: top;\n",
       "    }\n",
       "\n",
       "    .dataframe thead th {\n",
       "        text-align: right;\n",
       "    }\n",
       "</style>\n",
       "<table border=\"1\" class=\"dataframe\">\n",
       "  <thead>\n",
       "    <tr style=\"text-align: right;\">\n",
       "      <th></th>\n",
       "      <th>id_grupo</th>\n",
       "      <th>descricao_grupo</th>\n",
       "    </tr>\n",
       "  </thead>\n",
       "  <tbody>\n",
       "    <tr>\n",
       "      <th>0</th>\n",
       "      <td>1</td>\n",
       "      <td>TANGA COMUM</td>\n",
       "    </tr>\n",
       "    <tr>\n",
       "      <th>1</th>\n",
       "      <td>2</td>\n",
       "      <td>CALCOLA</td>\n",
       "    </tr>\n",
       "  </tbody>\n",
       "</table>\n",
       "</div>"
      ],
      "text/plain": [
       "   id_grupo descricao_grupo\n",
       "0         1     TANGA COMUM\n",
       "1         2         CALCOLA"
      ]
     },
     "execution_count": 208,
     "metadata": {},
     "output_type": "execute_result"
    }
   ],
   "source": [
    "subgrupos"
   ]
  },
  {
   "cell_type": "code",
   "execution_count": 151,
   "metadata": {},
   "outputs": [],
   "source": [
    "tabela = 'ARTIGOSPRECOS'\n",
    "precos = datab.fetchAllSQL(f'SELECT * FROM {tabela}')\n",
    "#indexItens = datab.fetchAllSQL(f\"select rdb$field_name from rdb$relation_fields where rdb$relation_name='{tabela}'\")\n",
    "indexItens = ['ref', 'tabela', 'preco_artigo', 'porcentagem_desconto','valor_desconto', 'valor_sugerido', 'comissao_fixa', 'valor_acerto_vendedor']\n",
    "precos = pd.DataFrame(precos)\n",
    "\n",
    "precos.columns = (indexItens)\n",
    "precos = precos.query('tabela == 1')"
   ]
  },
  {
   "cell_type": "code",
   "execution_count": null,
   "metadata": {},
   "outputs": [],
   "source": []
  },
  {
   "cell_type": "code",
   "execution_count": 198,
   "metadata": {},
   "outputs": [],
   "source": [
    "tabela = 'ARTIGOS'\n",
    "artigos = datab.fetchAllSQL(f'SELECT * FROM {tabela}')\n",
    "indexItens = datab.fetchAllSQL(f\"select rdb$field_name from rdb$relation_fields where rdb$relation_name='{tabela}'\")\n",
    "indexItens = ['ref', 'artigo', 'custo', 'etiqueta', 'id_grupo', 'fornecedor', 'status_artigo', 'nome_modelo', 'ano_modelo', 'ncm', 'grade', 'comissao', 'obs', 'kit', 'caixa', 'id_composicao','id_subgrupo', 'atualizar']\n",
    "artigos = pd.DataFrame(artigos)\n",
    "artigos.columns = (indexItens)"
   ]
  },
  {
   "cell_type": "code",
   "execution_count": 200,
   "metadata": {},
   "outputs": [
    {
     "data": {
      "text/plain": [
       "array([nan,  2.])"
      ]
     },
     "execution_count": 200,
     "metadata": {},
     "output_type": "execute_result"
    }
   ],
   "source": [
    "artigos['id_subgrupo'].unique()"
   ]
  },
  {
   "cell_type": "code",
   "execution_count": 190,
   "metadata": {},
   "outputs": [
    {
     "data": {
      "text/html": [
       "<div>\n",
       "<style scoped>\n",
       "    .dataframe tbody tr th:only-of-type {\n",
       "        vertical-align: middle;\n",
       "    }\n",
       "\n",
       "    .dataframe tbody tr th {\n",
       "        vertical-align: top;\n",
       "    }\n",
       "\n",
       "    .dataframe thead th {\n",
       "        text-align: right;\n",
       "    }\n",
       "</style>\n",
       "<table border=\"1\" class=\"dataframe\">\n",
       "  <thead>\n",
       "    <tr style=\"text-align: right;\">\n",
       "      <th></th>\n",
       "      <th>ref</th>\n",
       "      <th>artigo</th>\n",
       "      <th>custo</th>\n",
       "      <th>etiqueta</th>\n",
       "      <th>id_grupo</th>\n",
       "      <th>fornecedor</th>\n",
       "      <th>status_artigo</th>\n",
       "      <th>nome_modelo</th>\n",
       "      <th>ano_modelo</th>\n",
       "      <th>ncm</th>\n",
       "      <th>grade</th>\n",
       "      <th>comissao</th>\n",
       "      <th>obs</th>\n",
       "      <th>kit</th>\n",
       "      <th>caixa</th>\n",
       "      <th>id_subgrupo</th>\n",
       "      <th>id_composicao</th>\n",
       "      <th>atualizar</th>\n",
       "    </tr>\n",
       "  </thead>\n",
       "  <tbody>\n",
       "    <tr>\n",
       "      <th>32</th>\n",
       "      <td>10001</td>\n",
       "      <td>CALCOLA DIVERSAS</td>\n",
       "      <td>0</td>\n",
       "      <td>CALCOLA DIV</td>\n",
       "      <td>1.0</td>\n",
       "      <td>None</td>\n",
       "      <td>ATIVO</td>\n",
       "      <td></td>\n",
       "      <td></td>\n",
       "      <td></td>\n",
       "      <td></td>\n",
       "      <td>SIM</td>\n",
       "      <td></td>\n",
       "      <td>NaN</td>\n",
       "      <td>None</td>\n",
       "      <td>S</td>\n",
       "      <td>2.0</td>\n",
       "      <td>None</td>\n",
       "    </tr>\n",
       "  </tbody>\n",
       "</table>\n",
       "</div>"
      ],
      "text/plain": [
       "      ref            artigo custo     etiqueta  id_grupo fornecedor  \\\n",
       "32  10001  CALCOLA DIVERSAS     0  CALCOLA DIV       1.0       None   \n",
       "\n",
       "   status_artigo nome_modelo ano_modelo ncm grade comissao obs  kit caixa  \\\n",
       "32         ATIVO                                       SIM      NaN  None   \n",
       "\n",
       "   id_subgrupo  id_composicao atualizar  \n",
       "32           S            2.0      None  "
      ]
     },
     "execution_count": 190,
     "metadata": {},
     "output_type": "execute_result"
    }
   ],
   "source": [
    "artigos[artigos['id_subgrupo'] == \"S\"]"
   ]
  },
  {
   "cell_type": "code",
   "execution_count": 154,
   "metadata": {},
   "outputs": [],
   "source": [
    "artigos = artigos.drop(columns= ['custo', 'nome_modelo','etiqueta', 'fornecedor', 'ano_modelo', 'ncm', 'grade', 'comissao', 'kit', 'caixa', 'atualizar'])  # type: ignore\n",
    "artigos = pd.merge(artigos, grupos, on= 'id_grupo')\n",
    "artigos.name = 'artigos'\n",
    "artigos = pd.merge(artigos, precos[['ref', 'preco_artigo']], on='ref')"
   ]
  },
  {
   "cell_type": "code",
   "execution_count": 155,
   "metadata": {},
   "outputs": [
    {
     "data": {
      "text/html": [
       "<div>\n",
       "<style scoped>\n",
       "    .dataframe tbody tr th:only-of-type {\n",
       "        vertical-align: middle;\n",
       "    }\n",
       "\n",
       "    .dataframe tbody tr th {\n",
       "        vertical-align: top;\n",
       "    }\n",
       "\n",
       "    .dataframe thead th {\n",
       "        text-align: right;\n",
       "    }\n",
       "</style>\n",
       "<table border=\"1\" class=\"dataframe\">\n",
       "  <thead>\n",
       "    <tr style=\"text-align: right;\">\n",
       "      <th></th>\n",
       "      <th>ref</th>\n",
       "      <th>artigo</th>\n",
       "      <th>id_grupo</th>\n",
       "      <th>status_artigo</th>\n",
       "      <th>obs</th>\n",
       "      <th>id_subgrupo</th>\n",
       "      <th>id_composicao</th>\n",
       "      <th>descricao_grupo</th>\n",
       "      <th>valor</th>\n",
       "      <th>preco_artigo</th>\n",
       "    </tr>\n",
       "  </thead>\n",
       "  <tbody>\n",
       "    <tr>\n",
       "      <th>0</th>\n",
       "      <td>10006</td>\n",
       "      <td>TANGA SEM COSTURA DIVERSAS</td>\n",
       "      <td>11.0</td>\n",
       "      <td>ATIVO</td>\n",
       "      <td></td>\n",
       "      <td></td>\n",
       "      <td>NaN</td>\n",
       "      <td>TANGA COMUM</td>\n",
       "      <td>0</td>\n",
       "      <td>18.9</td>\n",
       "    </tr>\n",
       "    <tr>\n",
       "      <th>1</th>\n",
       "      <td>10007</td>\n",
       "      <td>TANGA COTTON DIVERSAS</td>\n",
       "      <td>11.0</td>\n",
       "      <td>ATIVO</td>\n",
       "      <td></td>\n",
       "      <td></td>\n",
       "      <td>NaN</td>\n",
       "      <td>TANGA COMUM</td>\n",
       "      <td>0</td>\n",
       "      <td>12.9</td>\n",
       "    </tr>\n",
       "    <tr>\n",
       "      <th>2</th>\n",
       "      <td>10009</td>\n",
       "      <td>TANGA ROMANTIC DIVERSAS</td>\n",
       "      <td>11.0</td>\n",
       "      <td>ATIVO</td>\n",
       "      <td></td>\n",
       "      <td></td>\n",
       "      <td>NaN</td>\n",
       "      <td>TANGA COMUM</td>\n",
       "      <td>0</td>\n",
       "      <td>12.6</td>\n",
       "    </tr>\n",
       "    <tr>\n",
       "      <th>3</th>\n",
       "      <td>10016</td>\n",
       "      <td>TANGA POLI</td>\n",
       "      <td>11.0</td>\n",
       "      <td>ATIVO</td>\n",
       "      <td></td>\n",
       "      <td></td>\n",
       "      <td>NaN</td>\n",
       "      <td>TANGA COMUM</td>\n",
       "      <td>0</td>\n",
       "      <td>15.9</td>\n",
       "    </tr>\n",
       "    <tr>\n",
       "      <th>4</th>\n",
       "      <td>10017</td>\n",
       "      <td>TANGA MODA</td>\n",
       "      <td>11.0</td>\n",
       "      <td>ATIVO</td>\n",
       "      <td></td>\n",
       "      <td></td>\n",
       "      <td>NaN</td>\n",
       "      <td>TANGA COMUM</td>\n",
       "      <td>0</td>\n",
       "      <td>13.9</td>\n",
       "    </tr>\n",
       "  </tbody>\n",
       "</table>\n",
       "</div>"
      ],
      "text/plain": [
       "     ref                      artigo  id_grupo status_artigo obs id_subgrupo  \\\n",
       "0  10006  TANGA SEM COSTURA DIVERSAS      11.0         ATIVO                   \n",
       "1  10007       TANGA COTTON DIVERSAS      11.0         ATIVO                   \n",
       "2  10009     TANGA ROMANTIC DIVERSAS      11.0         ATIVO                   \n",
       "3  10016                  TANGA POLI      11.0         ATIVO                   \n",
       "4  10017                  TANGA MODA      11.0         ATIVO                   \n",
       "\n",
       "   id_composicao descricao_grupo valor preco_artigo  \n",
       "0            NaN     TANGA COMUM     0         18.9  \n",
       "1            NaN     TANGA COMUM     0         12.9  \n",
       "2            NaN     TANGA COMUM     0         12.6  \n",
       "3            NaN     TANGA COMUM     0         15.9  \n",
       "4            NaN     TANGA COMUM     0         13.9  "
      ]
     },
     "execution_count": 155,
     "metadata": {},
     "output_type": "execute_result"
    }
   ],
   "source": [
    "artigos.head()"
   ]
  },
  {
   "cell_type": "code",
   "execution_count": 156,
   "metadata": {},
   "outputs": [],
   "source": [
    "artigos.to_csv('data/artigos.csv', sep= ';', index= False)"
   ]
  },
  {
   "attachments": {},
   "cell_type": "markdown",
   "metadata": {},
   "source": [
    "## Estoque Artigos"
   ]
  },
  {
   "cell_type": "code",
   "execution_count": 157,
   "metadata": {},
   "outputs": [],
   "source": [
    "tabela = 'ARTIGOSCENTROESTOQUE'\n",
    "dados = datab.fetchAllSQL(f'SELECT * FROM {tabela}')\n",
    "indexItens = datab.fetchAllSQL(f\"select rdb$field_name from rdb$relation_fields where rdb$relation_name='{tabela}'\")\n",
    "indexItens = ['ref', 'id_centro_estoque', 'tamanho', 'codigo_de_barras', 'estoque_deposito', 'estoque_rua', 'estoque_embalagem', 'estoque_total', 'quantidade_caixa']\n",
    "dados = pd.DataFrame(dados)\n",
    "dados.columns = (indexItens)"
   ]
  },
  {
   "cell_type": "code",
   "execution_count": 158,
   "metadata": {},
   "outputs": [],
   "source": [
    "dados = dados.drop(columns= ['id_centro_estoque', 'codigo_de_barras', 'estoque_rua', 'estoque_embalagem', 'estoque_total', 'quantidade_caixa'])\n"
   ]
  },
  {
   "cell_type": "code",
   "execution_count": 159,
   "metadata": {},
   "outputs": [],
   "source": [
    "dados.to_csv('data/estoque.csv', sep= ';', index= False)"
   ]
  },
  {
   "attachments": {},
   "cell_type": "markdown",
   "metadata": {},
   "source": [
    "## Promotor"
   ]
  },
  {
   "cell_type": "code",
   "execution_count": 160,
   "metadata": {},
   "outputs": [],
   "source": [
    "tabela = 'VENDEDORES'\n",
    "vendedores = datab.fetchAllSQL(f'SELECT * FROM {tabela}')\n",
    "indexItens = datab.fetchAllSQL(f\"select rdb$field_name from rdb$relation_fields where rdb$relation_name='{tabela}'\")"
   ]
  },
  {
   "cell_type": "code",
   "execution_count": 161,
   "metadata": {},
   "outputs": [],
   "source": [
    "tabela = 'VENDEDORES'\n",
    "vendedores = datab.fetchAllSQL(f'SELECT * FROM {tabela}')\n",
    "indexItens = datab.fetchAllSQL(f\"select rdb$field_name from rdb$relation_fields where rdb$relation_name='{tabela}'\")\n",
    "indexItens = ['id_vendedor', 'descricao_vendedor', 'status_vendedor', 'admissao', 'comissao', 'endereco', 'complemento', 'bairro', 'cidade', 'estado', 'cep', 'telefone', 'rg', 'cpf', 'nascimento', 'placa', 'email', 'sincroniza_auto', 'ordem_artigo_tablet', 'ordens_artigo_novo_tablet', 'editar_comissao', 'zerar_fec', 'conituar_fec', 'impressao_auto', 'alterar_fec', 'sugerir_artigo', 'inicio_cobranca', 'imprimir_pedido_novo', 'exportar_clientes_sacd', 'deixar_pepino', 'fazer_pedido_novo_rua', 'sugerir_cobranca', 'mensagem_debito', 'exportar_digitados', 'exportar_pepinos', 'devolver_tudo', 'fec_nao_entregue', 'artigo_por_comissao', 'somente_leitor', 'inativa_cli_tablet', 'cpf_obrigatorio', 'rec_pepino_fec', 'percentual_kit', 'bloquear_cliente', 'verificar_saldo', 'tabela_precovenda_sacdroid','excluir_venda','edita_comissao_venda', 'utilizar_garantias','devolver_dinheiro_garantias','alterar_aniversario','gps_obrigatorio', 'exibir_financeiro', 'exibir_devolucao',   'atualizar_cad_cli','bloquear_apos_entregue', 'quantidade_editavel', 'comissao_carteira', 'valor_meta', 'abaixo_meta', 'acima_meta', 'pepinos', 'acertos', 'adicionar_acertos', 'pagar_pepino', 'sincronizar_24h', 'id_comissao', 'comissao_art_sem_comissao', 'comissao_fixa', 'utilizar_notas_reais', 'quantidade_limite_de_credito', 'multiplicador_de_credito', 'valor_limite_abertura', 'pedido_novo', 'valor_pedido_novo', 'valor_pedido_reativar', 'utilizar_vendas', 'tipo_pix', 'chave_pix']\n",
    "vendedores = pd.DataFrame(vendedores)\n",
    "vendedores.columns = (indexItens)"
   ]
  },
  {
   "cell_type": "code",
   "execution_count": 162,
   "metadata": {},
   "outputs": [],
   "source": [
    "vendedores = vendedores.drop(columns= ['email', 'sincroniza_auto', 'ordem_artigo_tablet', 'ordens_artigo_novo_tablet', 'editar_comissao', 'zerar_fec', 'conituar_fec', 'impressao_auto', 'alterar_fec', 'sugerir_artigo', 'inicio_cobranca', 'imprimir_pedido_novo', 'exportar_clientes_sacd', 'deixar_pepino', 'fazer_pedido_novo_rua', 'sugerir_cobranca', 'mensagem_debito', 'exportar_digitados', 'exportar_pepinos', 'devolver_tudo', 'fec_nao_entregue', 'artigo_por_comissao', 'somente_leitor', 'inativa_cli_tablet', 'cpf_obrigatorio', 'rec_pepino_fec', 'percentual_kit', 'bloquear_cliente', 'verificar_saldo', 'tabela_precovenda_sacdroid','excluir_venda','edita_comissao_venda', 'utilizar_garantias','devolver_dinheiro_garantias','alterar_aniversario','gps_obrigatorio', 'exibir_financeiro', 'exibir_devolucao',   'atualizar_cad_cli','bloquear_apos_entregue', 'quantidade_editavel', 'comissao_carteira', 'valor_meta', 'abaixo_meta', 'acima_meta', 'pepinos', 'acertos', 'adicionar_acertos', 'pagar_pepino', 'sincronizar_24h', 'id_comissao', 'comissao_art_sem_comissao', 'comissao_fixa', 'utilizar_notas_reais', 'quantidade_limite_de_credito', 'multiplicador_de_credito', 'valor_limite_abertura', 'pedido_novo', 'valor_pedido_novo', 'valor_pedido_reativar', 'utilizar_vendas', 'tipo_pix', 'chave_pix'])\n",
    "vendedores.name = 'vendedores'"
   ]
  },
  {
   "cell_type": "code",
   "execution_count": 163,
   "metadata": {},
   "outputs": [],
   "source": [
    "vendedores.to_csv('data/vendedores.csv', sep= ';', index= False)"
   ]
  },
  {
   "attachments": {},
   "cell_type": "markdown",
   "metadata": {},
   "source": [
    "## Praças"
   ]
  },
  {
   "cell_type": "code",
   "execution_count": 164,
   "metadata": {},
   "outputs": [],
   "source": [
    "tabela = 'PRACAS'\n",
    "pracas = datab.fetchAllSQL(f'SELECT * FROM {tabela}')\n",
    "indexItens = datab.fetchAllSQL(f\"select rdb$field_name from rdb$relation_fields where rdb$relation_name='{tabela}'\")\n",
    "indexItens = ['id_praca', 'descricao_praca', 'id_vendedor', 'estoque', 'tipo', 'id_tabela', 'percentual_media', 'semanas_cobranca', 'status_praca', 'limite_credito', 'usar_mensagem', 'mensagem_1', 'mensagem_2', 'mensagem_3', 'aceita_fora_carga', 'obs', 'comissao_fixa', 'multi_kit', 'coletor']\n",
    "pracas = pd.DataFrame(pracas)\n",
    "pracas.columns = (indexItens)"
   ]
  },
  {
   "cell_type": "code",
   "execution_count": 165,
   "metadata": {},
   "outputs": [],
   "source": [
    "pracas = pracas.drop(columns= ['estoque', 'id_tabela', 'percentual_media', 'semanas_cobranca', 'limite_credito', 'usar_mensagem', 'mensagem_2', 'mensagem_3', 'aceita_fora_carga','comissao_fixa', 'multi_kit', 'coletor'])  # type: ignore\n"
   ]
  },
  {
   "cell_type": "code",
   "execution_count": 166,
   "metadata": {},
   "outputs": [],
   "source": [
    "pracas = pracas.merge(vendedores[['id_vendedor','descricao_vendedor']], on= 'id_vendedor')"
   ]
  },
  {
   "cell_type": "code",
   "execution_count": 167,
   "metadata": {},
   "outputs": [],
   "source": [
    "pracas.to_csv(f'data/pracas.csv', sep= ';', index= False)"
   ]
  },
  {
   "attachments": {},
   "cell_type": "markdown",
   "metadata": {},
   "source": [
    "## Sacoleiras"
   ]
  },
  {
   "cell_type": "code",
   "execution_count": 168,
   "metadata": {},
   "outputs": [],
   "source": [
    "tabela = 'SACOLEIRAS'\n",
    "sacoleiras = datab.fetchAllSQL(f'SELECT * FROM {tabela}')\n",
    "indexItens = datab.fetchAllSQL(f\"select rdb$field_name from rdb$relation_fields where rdb$relation_name='{tabela}'\")\n",
    "indexItens = ['id_praca', 'id_sacoleira', 'nome', 'status', 'primeiro_pedido', 'ultimo_pedido', 'comissao', 'indicacao', 'identidade', 'cpf', 'dia_mes', 'ano', 'endereco', 'complemento', 'bairro', 'cidade', 'uf', 'cep', 'telefone', 'email', 'observacao', 'ponto_antes', 'ponto_atual', 'ultimo_pedido_impresso', 'ano_semana_ultimo_pedido_impresso', 'id_contafinanceira', 'perfil', 'sacpro', 'valor_limite_credito', 'data_nascimento', 'contatos', 'gps', 'sacdroid', 'pai', 'mae', 'conjuge', 'spc', 'equipe', 'id_nivel', 'atualizar', 'classificacao', 'data_hora_inclusao', 'data_hora_reserva']\n",
    "sacoleiras = pd.DataFrame(sacoleiras)\n",
    "sacoleiras.columns = (indexItens)"
   ]
  },
  {
   "cell_type": "code",
   "execution_count": 169,
   "metadata": {},
   "outputs": [],
   "source": [
    "infoCidades = pd.read_csv('data/cidades.csv', sep=';')"
   ]
  },
  {
   "cell_type": "code",
   "execution_count": 170,
   "metadata": {},
   "outputs": [],
   "source": [
    "sacoleiras = sacoleiras.drop(columns= ['comissao', 'indicacao', 'dia_mes', 'ano', 'email', 'ponto_antes', 'ponto_atual', 'ultimo_pedido_impresso', 'ano_semana_ultimo_pedido_impresso', 'id_contafinanceira', 'perfil', 'sacpro', 'valor_limite_credito', 'contatos', 'sacdroid', 'pai', 'mae', 'conjuge', 'spc', 'equipe', 'id_nivel', 'atualizar', 'classificacao', 'data_hora_inclusao', 'data_hora_reserva'])"
   ]
  },
  {
   "cell_type": "code",
   "execution_count": 171,
   "metadata": {},
   "outputs": [],
   "source": [
    "sacoleiras = sacoleiras.merge(infoCidades[['uf','cidade', 'latitude','longitude']], on=['cidade', 'uf'])"
   ]
  },
  {
   "cell_type": "code",
   "execution_count": 172,
   "metadata": {},
   "outputs": [],
   "source": [
    "sacoleiras['idade'] = sacoleiras['data_nascimento'].apply(lambda x: 0 if x == None else (date.today().year - x.year))\n",
    "sacoleiras.name = 'sacoleiras'"
   ]
  },
  {
   "cell_type": "code",
   "execution_count": 173,
   "metadata": {},
   "outputs": [],
   "source": [
    "sacoleiras.to_csv(f'data/sacoleiras.csv', sep= ';', index= False)"
   ]
  },
  {
   "attachments": {},
   "cell_type": "markdown",
   "metadata": {},
   "source": [
    "## Cargas"
   ]
  },
  {
   "cell_type": "code",
   "execution_count": 174,
   "metadata": {},
   "outputs": [],
   "source": [
    "tabela = 'CARGAS'\n",
    "cargas = datab.fetchAllSQL(f'SELECT * FROM {tabela}')\n",
    "# indexItens = datab.fetchAllSQL(f\"select rdb$field_name from rdb$relation_fields where rdb$relation_name='{tabela}'\")\n",
    "indexItens = ['id_praca', 'ano_sem_pedido', 'ano_sem_cobranca', 'status', 'pedidos_digitados', 'pedidos_fechados', 'pedidos_pepinos', 'quantidade_total_recebida', 'valor_total_pedidos', 'quantidade_itens', 'valor_total_carga', 'pedidos_transferidos', 'data_lancamento', 'em_uso', 'qtd_kit', 'qtd_kit2', 'qtd_kit3', 'multikit', 'coletor', 'bloqueado']\n",
    "cargas = pd.DataFrame(cargas)\n",
    "cargas.columns = (indexItens)"
   ]
  },
  {
   "cell_type": "code",
   "execution_count": 175,
   "metadata": {},
   "outputs": [],
   "source": [
    "cargas = cargas.drop(columns= ['pedidos_digitados', 'pedidos_fechados', 'pedidos_pepinos', 'quantidade_total_recebida', 'valor_total_pedidos', 'quantidade_itens', 'valor_total_carga', 'pedidos_transferidos', 'data_lancamento', 'em_uso', 'qtd_kit', 'qtd_kit2', 'qtd_kit3', 'multikit', 'coletor'])"
   ]
  },
  {
   "cell_type": "code",
   "execution_count": 176,
   "metadata": {},
   "outputs": [],
   "source": [
    "cargas['ano_sem_pedido_data'] = cargas['ano_sem_pedido'].apply(lambda x: pd.to_datetime(x+'/1', format= '%y/%W/%w' ))\n",
    "cargas['ano_sem_cobranca_data'] = cargas['ano_sem_cobranca'].apply(lambda x: pd.to_datetime(x+'/1', format= '%y/%W/%w' ))\n",
    "cargas.name = 'cargas'"
   ]
  },
  {
   "cell_type": "code",
   "execution_count": 177,
   "metadata": {},
   "outputs": [],
   "source": [
    "cargas.to_csv(f'data/cargas.csv', sep= ';', index= False)"
   ]
  },
  {
   "attachments": {},
   "cell_type": "markdown",
   "metadata": {},
   "source": [
    "## Cargas Artigos"
   ]
  },
  {
   "cell_type": "code",
   "execution_count": 178,
   "metadata": {},
   "outputs": [
    {
     "ename": "KeyboardInterrupt",
     "evalue": "",
     "output_type": "error",
     "traceback": [
      "\u001b[1;31m---------------------------------------------------------------------------\u001b[0m",
      "\u001b[1;31mKeyboardInterrupt\u001b[0m                         Traceback (most recent call last)",
      "Cell \u001b[1;32mIn[178], line 2\u001b[0m\n\u001b[0;32m      1\u001b[0m tabela \u001b[38;5;241m=\u001b[39m \u001b[38;5;124m'\u001b[39m\u001b[38;5;124mCARGASARTIGOS\u001b[39m\u001b[38;5;124m'\u001b[39m\n\u001b[1;32m----> 2\u001b[0m cargaArtigos \u001b[38;5;241m=\u001b[39m \u001b[43mdatab\u001b[49m\u001b[38;5;241;43m.\u001b[39;49m\u001b[43mfetchAllSQL\u001b[49m\u001b[43m(\u001b[49m\u001b[38;5;124;43mf\u001b[39;49m\u001b[38;5;124;43m'\u001b[39;49m\u001b[38;5;124;43mSELECT * FROM \u001b[39;49m\u001b[38;5;132;43;01m{\u001b[39;49;00m\u001b[43mtabela\u001b[49m\u001b[38;5;132;43;01m}\u001b[39;49;00m\u001b[38;5;124;43m'\u001b[39;49m\u001b[43m)\u001b[49m\n\u001b[0;32m      3\u001b[0m indexItens \u001b[38;5;241m=\u001b[39m datab\u001b[38;5;241m.\u001b[39mfetchAllSQL(\u001b[38;5;124mf\u001b[39m\u001b[38;5;124m\"\u001b[39m\u001b[38;5;124mselect rdb$field_name from rdb$relation_fields where rdb$relation_name=\u001b[39m\u001b[38;5;124m'\u001b[39m\u001b[38;5;132;01m{\u001b[39;00mtabela\u001b[38;5;132;01m}\u001b[39;00m\u001b[38;5;124m'\u001b[39m\u001b[38;5;124m\"\u001b[39m)\n\u001b[0;32m      4\u001b[0m indexItens \u001b[38;5;241m=\u001b[39m [\u001b[38;5;124m'\u001b[39m\u001b[38;5;124mid_praca\u001b[39m\u001b[38;5;124m'\u001b[39m, \u001b[38;5;124m'\u001b[39m\u001b[38;5;124mano_sem_pedido\u001b[39m\u001b[38;5;124m'\u001b[39m, \u001b[38;5;124m'\u001b[39m\u001b[38;5;124mid_artigo\u001b[39m\u001b[38;5;124m'\u001b[39m, \u001b[38;5;124m'\u001b[39m\u001b[38;5;124mid_centro_estoque\u001b[39m\u001b[38;5;124m'\u001b[39m, \u001b[38;5;124m'\u001b[39m\u001b[38;5;124mvalor_unitario\u001b[39m\u001b[38;5;124m'\u001b[39m, \u001b[38;5;124m'\u001b[39m\u001b[38;5;124mvalor_total\u001b[39m\u001b[38;5;124m'\u001b[39m, \u001b[38;5;124m'\u001b[39m\u001b[38;5;124mkit\u001b[39m\u001b[38;5;124m'\u001b[39m, \u001b[38;5;124m'\u001b[39m\u001b[38;5;124mquantidade_recebida\u001b[39m\u001b[38;5;124m'\u001b[39m, \u001b[38;5;124m'\u001b[39m\u001b[38;5;124mquantidade_distribuida\u001b[39m\u001b[38;5;124m'\u001b[39m, \u001b[38;5;124m'\u001b[39m\u001b[38;5;124mquantidade_devolvida\u001b[39m\u001b[38;5;124m'\u001b[39m, \u001b[38;5;124m'\u001b[39m\u001b[38;5;124mquantidade_brinde\u001b[39m\u001b[38;5;124m'\u001b[39m, \u001b[38;5;124m'\u001b[39m\u001b[38;5;124mquantidade_retorno\u001b[39m\u001b[38;5;124m'\u001b[39m, \u001b[38;5;124m'\u001b[39m\u001b[38;5;124mstatus\u001b[39m\u001b[38;5;124m'\u001b[39m, \u001b[38;5;124m'\u001b[39m\u001b[38;5;124mordem\u001b[39m\u001b[38;5;124m'\u001b[39m, \u001b[38;5;124m'\u001b[39m\u001b[38;5;124mtabela\u001b[39m\u001b[38;5;124m'\u001b[39m, \u001b[38;5;124m'\u001b[39m\u001b[38;5;124mdata_troca\u001b[39m\u001b[38;5;124m'\u001b[39m, \u001b[38;5;124m'\u001b[39m\u001b[38;5;124mid_artigo_old\u001b[39m\u001b[38;5;124m'\u001b[39m, \u001b[38;5;124m'\u001b[39m\u001b[38;5;124mquantidade_rua\u001b[39m\u001b[38;5;124m'\u001b[39m, \u001b[38;5;124m'\u001b[39m\u001b[38;5;124mquantidade_inserida\u001b[39m\u001b[38;5;124m'\u001b[39m, \u001b[38;5;124m'\u001b[39m\u001b[38;5;124mcomissao_fixa\u001b[39m\u001b[38;5;124m'\u001b[39m, \u001b[38;5;124m'\u001b[39m\u001b[38;5;124mkit2\u001b[39m\u001b[38;5;124m'\u001b[39m, \u001b[38;5;124m'\u001b[39m\u001b[38;5;124mkit3\u001b[39m\u001b[38;5;124m'\u001b[39m, \u001b[38;5;124m'\u001b[39m\u001b[38;5;124mcomplemento\u001b[39m\u001b[38;5;124m'\u001b[39m, \u001b[38;5;124m'\u001b[39m\u001b[38;5;124mordem2\u001b[39m\u001b[38;5;124m'\u001b[39m, \u001b[38;5;124m'\u001b[39m\u001b[38;5;124mordem3\u001b[39m\u001b[38;5;124m'\u001b[39m, \u001b[38;5;124m'\u001b[39m\u001b[38;5;124mordemc\u001b[39m\u001b[38;5;124m'\u001b[39m, \u001b[38;5;124m'\u001b[39m\u001b[38;5;124mvalor_acerto_vendedor\u001b[39m\u001b[38;5;124m'\u001b[39m, \u001b[38;5;124m'\u001b[39m\u001b[38;5;124mcomissao\u001b[39m\u001b[38;5;124m'\u001b[39m, \u001b[38;5;124m'\u001b[39m\u001b[38;5;124mquantidade_suja\u001b[39m\u001b[38;5;124m'\u001b[39m, \u001b[38;5;124m'\u001b[39m\u001b[38;5;124mquantidade_defeito\u001b[39m\u001b[38;5;124m'\u001b[39m]\n",
      "Cell \u001b[1;32mIn[146], line 21\u001b[0m, in \u001b[0;36mDb.fetchAllSQL\u001b[1;34m(self, sql)\u001b[0m\n\u001b[0;32m     19\u001b[0m cursor \u001b[38;5;241m=\u001b[39m \u001b[38;5;28mself\u001b[39m\u001b[38;5;241m.\u001b[39mconn\u001b[38;5;241m.\u001b[39mcursor()\n\u001b[0;32m     20\u001b[0m cursor\u001b[38;5;241m.\u001b[39mexecute(sql)\n\u001b[1;32m---> 21\u001b[0m result \u001b[38;5;241m=\u001b[39m \u001b[43mcursor\u001b[49m\u001b[38;5;241;43m.\u001b[39;49m\u001b[43mfetchall\u001b[49m\u001b[43m(\u001b[49m\u001b[43m)\u001b[49m\n\u001b[0;32m     22\u001b[0m cursor\u001b[38;5;241m.\u001b[39mclose()\n\u001b[0;32m     23\u001b[0m \u001b[38;5;28;01mreturn\u001b[39;00m result\n",
      "File \u001b[1;32mc:\\Users\\Pc-Server\\AppData\\Local\\Programs\\Python\\Python312\\Lib\\site-packages\\fdb\\fbcore.py:3813\u001b[0m, in \u001b[0;36mCursor.fetchall\u001b[1;34m(self)\u001b[0m\n\u001b[0;32m   3801\u001b[0m \u001b[38;5;28;01mdef\u001b[39;00m \u001b[38;5;21mfetchall\u001b[39m(\u001b[38;5;28mself\u001b[39m):\n\u001b[0;32m   3802\u001b[0m \u001b[38;5;250m    \u001b[39m\u001b[38;5;124;03m\"\"\"Fetch all (remaining) rows of a query result.\u001b[39;00m\n\u001b[0;32m   3803\u001b[0m \n\u001b[0;32m   3804\u001b[0m \u001b[38;5;124;03m    Returns:\u001b[39;00m\n\u001b[1;32m   (...)\u001b[0m\n\u001b[0;32m   3811\u001b[0m \u001b[38;5;124;03m            unknown status is returned by fetch operation.\u001b[39;00m\n\u001b[0;32m   3812\u001b[0m \u001b[38;5;124;03m    \"\"\"\u001b[39;00m\n\u001b[1;32m-> 3813\u001b[0m     \u001b[38;5;28;01mreturn\u001b[39;00m \u001b[43m[\u001b[49m\u001b[43mrow\u001b[49m\u001b[43m \u001b[49m\u001b[38;5;28;43;01mfor\u001b[39;49;00m\u001b[43m \u001b[49m\u001b[43mrow\u001b[49m\u001b[43m \u001b[49m\u001b[38;5;129;43;01min\u001b[39;49;00m\u001b[43m \u001b[49m\u001b[38;5;28;43mself\u001b[39;49m\u001b[43m]\u001b[49m\n",
      "File \u001b[1;32mc:\\Users\\Pc-Server\\AppData\\Local\\Programs\\Python\\Python312\\Lib\\site-packages\\fdb\\fbcore.py:3545\u001b[0m, in \u001b[0;36mCursor.next\u001b[1;34m(self)\u001b[0m\n\u001b[0;32m   3539\u001b[0m \u001b[38;5;28;01mdef\u001b[39;00m \u001b[38;5;21mnext\u001b[39m(\u001b[38;5;28mself\u001b[39m):\n\u001b[0;32m   3540\u001b[0m \u001b[38;5;250m    \u001b[39m\u001b[38;5;124;03m\"\"\"Return the next item from the container. Part of *iterator protocol*.\u001b[39;00m\n\u001b[0;32m   3541\u001b[0m \n\u001b[0;32m   3542\u001b[0m \u001b[38;5;124;03m    Raises:\u001b[39;00m\n\u001b[0;32m   3543\u001b[0m \u001b[38;5;124;03m        StopIteration: If there are no further items.\u001b[39;00m\n\u001b[0;32m   3544\u001b[0m \u001b[38;5;124;03m    \"\"\"\u001b[39;00m\n\u001b[1;32m-> 3545\u001b[0m     row \u001b[38;5;241m=\u001b[39m \u001b[38;5;28;43mself\u001b[39;49m\u001b[38;5;241;43m.\u001b[39;49m\u001b[43mfetchone\u001b[49m\u001b[43m(\u001b[49m\u001b[43m)\u001b[49m\n\u001b[0;32m   3546\u001b[0m     \u001b[38;5;28;01mif\u001b[39;00m row:\n\u001b[0;32m   3547\u001b[0m         \u001b[38;5;28;01mreturn\u001b[39;00m row\n",
      "File \u001b[1;32mc:\\Users\\Pc-Server\\AppData\\Local\\Programs\\Python\\Python312\\Lib\\site-packages\\fdb\\fbcore.py:3765\u001b[0m, in \u001b[0;36mCursor.fetchone\u001b[1;34m(self)\u001b[0m\n\u001b[0;32m   3753\u001b[0m \u001b[38;5;250m\u001b[39m\u001b[38;5;124;03m\"\"\"Fetch the next row of a query result set.\u001b[39;00m\n\u001b[0;32m   3754\u001b[0m \n\u001b[0;32m   3755\u001b[0m \u001b[38;5;124;03mReturns:\u001b[39;00m\n\u001b[1;32m   (...)\u001b[0m\n\u001b[0;32m   3762\u001b[0m \u001b[38;5;124;03m        unknown status is returned by fetch operation.\u001b[39;00m\n\u001b[0;32m   3763\u001b[0m \u001b[38;5;124;03m\"\"\"\u001b[39;00m\n\u001b[0;32m   3764\u001b[0m \u001b[38;5;28;01mif\u001b[39;00m \u001b[38;5;28mself\u001b[39m\u001b[38;5;241m.\u001b[39m_ps:\n\u001b[1;32m-> 3765\u001b[0m     \u001b[38;5;28;01mreturn\u001b[39;00m \u001b[38;5;28;43mself\u001b[39;49m\u001b[38;5;241;43m.\u001b[39;49m\u001b[43m_ps\u001b[49m\u001b[38;5;241;43m.\u001b[39;49m\u001b[43m_fetchone\u001b[49m\u001b[43m(\u001b[49m\u001b[43m)\u001b[49m\n\u001b[0;32m   3766\u001b[0m \u001b[38;5;28;01melse\u001b[39;00m:\n\u001b[0;32m   3767\u001b[0m     \u001b[38;5;28;01mraise\u001b[39;00m ProgrammingError(\u001b[38;5;124m\"\u001b[39m\u001b[38;5;124mCannot fetch from this cursor because\u001b[39m\u001b[38;5;124m\"\u001b[39m\n\u001b[0;32m   3768\u001b[0m                            \u001b[38;5;124m\"\u001b[39m\u001b[38;5;124m it has not executed a statement.\u001b[39m\u001b[38;5;124m\"\u001b[39m)\n",
      "File \u001b[1;32mc:\\Users\\Pc-Server\\AppData\\Local\\Programs\\Python\\Python312\\Lib\\site-packages\\fdb\\fbcore.py:3409\u001b[0m, in \u001b[0;36mPreparedStatement._fetchone\u001b[1;34m(self)\u001b[0m\n\u001b[0;32m   3406\u001b[0m \u001b[38;5;28;01mif\u001b[39;00m \u001b[38;5;28mself\u001b[39m\u001b[38;5;241m.\u001b[39mn_output_params \u001b[38;5;241m==\u001b[39m \u001b[38;5;241m0\u001b[39m:\n\u001b[0;32m   3407\u001b[0m     \u001b[38;5;28;01mraise\u001b[39;00m DatabaseError(\u001b[38;5;124m\"\u001b[39m\u001b[38;5;124mAttempt to fetch row of results after statement\u001b[39m\u001b[38;5;124m\"\u001b[39m\n\u001b[0;32m   3408\u001b[0m                         \u001b[38;5;124m\"\u001b[39m\u001b[38;5;124m that does not produce result set.\u001b[39m\u001b[38;5;124m\"\u001b[39m)\n\u001b[1;32m-> 3409\u001b[0m \u001b[38;5;28mself\u001b[39m\u001b[38;5;241m.\u001b[39m_last_fetch_status \u001b[38;5;241m=\u001b[39m \u001b[43mapi\u001b[49m\u001b[38;5;241;43m.\u001b[39;49m\u001b[43misc_dsql_fetch\u001b[49m\u001b[43m(\u001b[49m\n\u001b[0;32m   3410\u001b[0m \u001b[43m    \u001b[49m\u001b[38;5;28;43mself\u001b[39;49m\u001b[38;5;241;43m.\u001b[39;49m\u001b[43m_isc_status\u001b[49m\u001b[43m,\u001b[49m\n\u001b[0;32m   3411\u001b[0m \u001b[43m    \u001b[49m\u001b[38;5;28;43mself\u001b[39;49m\u001b[38;5;241;43m.\u001b[39;49m\u001b[43m_stmt_handle\u001b[49m\u001b[43m,\u001b[49m\n\u001b[0;32m   3412\u001b[0m \u001b[43m    \u001b[49m\u001b[38;5;28;43mself\u001b[39;49m\u001b[38;5;241;43m.\u001b[39;49m\u001b[43m__sql_dialect\u001b[49m\u001b[43m,\u001b[49m\n\u001b[0;32m   3413\u001b[0m \u001b[43m    \u001b[49m\u001b[43mctypes\u001b[49m\u001b[38;5;241;43m.\u001b[39;49m\u001b[43mcast\u001b[49m\u001b[43m(\u001b[49m\u001b[43mctypes\u001b[49m\u001b[38;5;241;43m.\u001b[39;49m\u001b[43mpointer\u001b[49m\u001b[43m(\u001b[49m\u001b[38;5;28;43mself\u001b[39;49m\u001b[38;5;241;43m.\u001b[39;49m\u001b[43m_out_sqlda\u001b[49m\u001b[43m)\u001b[49m\u001b[43m,\u001b[49m\u001b[43m \u001b[49m\u001b[43mXSQLDA_PTR\u001b[49m\u001b[43m)\u001b[49m\u001b[43m)\u001b[49m\n\u001b[0;32m   3414\u001b[0m \u001b[38;5;28;01mif\u001b[39;00m \u001b[38;5;28mself\u001b[39m\u001b[38;5;241m.\u001b[39m_last_fetch_status \u001b[38;5;241m==\u001b[39m \u001b[38;5;241m0\u001b[39m:\n\u001b[0;32m   3415\u001b[0m     \u001b[38;5;28;01mreturn\u001b[39;00m \u001b[38;5;28mself\u001b[39m\u001b[38;5;241m.\u001b[39m__xsqlda2tuple(\u001b[38;5;28mself\u001b[39m\u001b[38;5;241m.\u001b[39m_out_sqlda)\n",
      "\u001b[1;31mKeyboardInterrupt\u001b[0m: "
     ]
    }
   ],
   "source": [
    "tabela = 'CARGASARTIGOS'\n",
    "cargaArtigos = datab.fetchAllSQL(f'SELECT * FROM {tabela}')\n",
    "indexItens = datab.fetchAllSQL(f\"select rdb$field_name from rdb$relation_fields where rdb$relation_name='{tabela}'\")\n",
    "indexItens = ['id_praca', 'ano_sem_pedido', 'id_artigo', 'id_centro_estoque', 'valor_unitario', 'valor_total', 'kit', 'quantidade_recebida', 'quantidade_distribuida', 'quantidade_devolvida', 'quantidade_brinde', 'quantidade_retorno', 'status', 'ordem', 'tabela', 'data_troca', 'id_artigo_old', 'quantidade_rua', 'quantidade_inserida', 'comissao_fixa', 'kit2', 'kit3', 'complemento', 'ordem2', 'ordem3', 'ordemc', 'valor_acerto_vendedor', 'comissao', 'quantidade_suja', 'quantidade_defeito']\n",
    "cargaArtigos = pd.DataFrame(cargaArtigos)\n",
    "cargaArtigos.columns = (indexItens)  # type: ignore"
   ]
  },
  {
   "cell_type": "code",
   "execution_count": null,
   "metadata": {},
   "outputs": [],
   "source": [
    "cargaArtigos = cargaArtigos.drop(columns=['id_centro_estoque', 'comissao_fixa','kit', 'kit2', 'kit3', 'complemento', 'ordem2', 'ordem3', 'ordemc', 'valor_acerto_vendedor', 'comissao', 'quantidade_suja', 'quantidade_defeito', 'ordem', 'tabela','id_artigo_old', 'quantidade_rua', 'quantidade_inserida', 'data_troca'])"
   ]
  },
  {
   "cell_type": "code",
   "execution_count": null,
   "metadata": {},
   "outputs": [],
   "source": [
    "## Tratamento de semanas\n",
    "cargaArtigos['ano_sem_pedido_data'] = cargaArtigos['ano_sem_pedido'].apply(lambda x: pd.to_datetime(x+'/1', format= '%y/%W/%w' ))\n",
    "cargaArtigos.name = 'cargaArtigos'\n"
   ]
  },
  {
   "cell_type": "code",
   "execution_count": null,
   "metadata": {},
   "outputs": [],
   "source": [
    "cargaArtigos.to_csv(f'data/cargaArtigos.csv', sep= ';', index= False)"
   ]
  },
  {
   "attachments": {},
   "cell_type": "markdown",
   "metadata": {},
   "source": [
    "## Pedidos"
   ]
  },
  {
   "cell_type": "code",
   "execution_count": null,
   "metadata": {},
   "outputs": [],
   "source": [
    "tabela = 'PEDIDOS'\n",
    "pedidos = datab.fetchAllSQL(f'SELECT * FROM {tabela}')\n",
    "indexItens = datab.fetchAllSQL(f\"select rdb$field_name from rdb$relation_fields where rdb$relation_name='{tabela}'\")\n",
    "indexItens = ['id_pedido', 'ano_sem_pedido', 'ano_sem_cobranca', 'id_praca', 'id_sacoleira', 'status', 'quantidade_entregue', 'valor_total_sem_comissao', 'valor_total_com_comissao', 'valor_total_pedido', 'data_retorno', 'obs_encomenda', 'atualizacao', 'impresso', 'coletor', 'data_pedido', 'transferido', 'id_sacoleira_old', 'gps', 'gps_original', 'id_pedido_provisorio', 'qtd_kit1', 'qtd_kit2', 'qtd_kit3' , 'id_mostruario', 'em_uso', 'digitador', 'valor_total_comissao_fixa', 'situacao', 'atualizar']\n",
    "pedidos = pd.DataFrame(pedidos)\n",
    "pedidos.columns = (indexItens) # type: ignore"
   ]
  },
  {
   "cell_type": "code",
   "execution_count": null,
   "metadata": {},
   "outputs": [],
   "source": [
    "pedidos = pedidos.drop(columns= ['obs_encomenda', 'atualizacao', 'impresso', 'coletor', 'data_pedido', 'transferido', 'id_sacoleira_old', 'gps', 'gps_original', 'id_pedido_provisorio', 'qtd_kit1', 'qtd_kit2', 'qtd_kit3' , 'id_mostruario', 'em_uso', 'digitador', 'valor_total_comissao_fixa', 'situacao', 'atualizar'])"
   ]
  },
  {
   "cell_type": "code",
   "execution_count": null,
   "metadata": {},
   "outputs": [],
   "source": [
    "pedidos = pd.merge(pedidos, pracas[['id_vendedor', 'id_praca', 'descricao_praca', 'descricao_vendedor']], on= 'id_praca', how='left')\n",
    "pedidos = pedidos.merge(sacoleiras[['id_sacoleira', 'cidade', 'uf', 'latitude', 'longitude']], on= 'id_sacoleira', how='left')"
   ]
  },
  {
   "cell_type": "code",
   "execution_count": null,
   "metadata": {},
   "outputs": [],
   "source": [
    "todosAnoSem = pd.concat([pedidos['ano_sem_pedido'], pedidos['ano_sem_cobranca']]).unique() # type: ignore\n",
    "\n",
    "pedidos['ano_sem_pedido_data'] = pedidos['ano_sem_pedido']\n",
    "pedidos['ano_mes_pedido'] = pedidos['ano_sem_pedido']\n",
    "pedidos['ano_pedido'] = pedidos['ano_sem_pedido']\n",
    "\n",
    "pedidos['ano_sem_cobranca_data'] = pedidos['ano_sem_cobranca']\n",
    "pedidos['ano_mes_cobranca'] = pedidos['ano_sem_cobranca']\n",
    "pedidos['ano_cobranca'] = pedidos['ano_sem_cobranca']\n",
    "\n",
    "for anoSemana in todosAnoSem:\n",
    "    conversor = conversorSemanas(anoSemana)\n",
    "    pedidos['ano_sem_pedido_data'] = pedidos['ano_sem_pedido_data'].replace(anoSemana, conversor.dataConvertida)\n",
    "    pedidos['ano_mes_pedido'] = pedidos['ano_mes_pedido'].replace(anoSemana, conversor.mesConvertido)\n",
    "    pedidos['ano_pedido'] = pedidos['ano_pedido'].replace(anoSemana, conversor.anoConvertido)\n",
    "    \n",
    "    pedidos['ano_sem_cobranca_data'] = pedidos['ano_sem_cobranca_data'].replace(anoSemana, conversor.dataConvertida)\n",
    "    pedidos['ano_mes_cobranca'] = pedidos['ano_mes_cobranca'].replace(anoSemana, conversor.mesConvertido)\n",
    "    pedidos['ano_cobranca'] = pedidos['ano_cobranca'].replace(anoSemana, conversor.anoConvertido)"
   ]
  },
  {
   "cell_type": "code",
   "execution_count": null,
   "metadata": {},
   "outputs": [],
   "source": [
    "#pedidos.to_csv(f'data/pedidos.csv', sep= ';', index= False)"
   ]
  },
  {
   "attachments": {},
   "cell_type": "markdown",
   "metadata": {},
   "source": [
    "## Fechamentos"
   ]
  },
  {
   "cell_type": "code",
   "execution_count": null,
   "metadata": {},
   "outputs": [],
   "source": [
    "tabela = 'FECHAMENTO'\n",
    "fechamentos = datab.fetchAllSQL(f'SELECT * FROM {tabela}')\n",
    "#indexItens = datab.fetchAllSQL(f\"select rdb$field_name from rdb$relation_fields where rdb$relation_name='{tabela}'\")\n",
    "indexItens = ['id_pedido', 'status', 'ano_sem_pedido', 'ano_sem_cobranca', 'quant_devolvida', 'quant_vendida', 'valor_venda_pedido', 'per_comissao', 'valor_comissao_sacoleira', 'valor_liquido', 'valor_sem_comissao', 'valor_liquido_recebido', 'valor_recebido', 'valor_pepino', 'valor_fator_venda', 'valor_dinheiro', 'valor_cheque', 'valor_cartao', 'data_fechamento', 'hora_fechamento', 'quantidade_devolvida_original', 'valor_venda_original', 'data_conferencia', 'data_fechamento_vazia', 'status_original', 'data_original', 'hora_original', 'gps', 'gps_original', 'valor_boleto', 'valor_deposito', 'valor_credito', 'valor_debito', 'valor_vend_ped_com_fixa', 'valor_vend_liq_ped_com_fixa']\n",
    "fechamentos = pd.DataFrame(fechamentos)\n",
    "fechamentos.columns = (indexItens) # type: ignore"
   ]
  },
  {
   "cell_type": "code",
   "execution_count": null,
   "metadata": {},
   "outputs": [],
   "source": [
    "fechamentos = fechamentos.drop(columns= ['valor_sem_comissao', 'gps', 'gps_original', 'valor_boleto', 'valor_deposito', 'valor_credito', 'valor_debito', 'valor_vend_ped_com_fixa', 'valor_vend_liq_ped_com_fixa', 'data_conferencia', 'data_fechamento_vazia'])\n"
   ]
  },
  {
   "cell_type": "code",
   "execution_count": null,
   "metadata": {},
   "outputs": [],
   "source": [
    "fechamentos = pd.merge(fechamentos, pedidos[['id_vendedor', 'id_praca', 'id_pedido', 'valor_total_pedido', 'id_sacoleira']], on= 'id_pedido', how='left' )\n",
    "fechamentos = pd.merge(fechamentos, pracas[['id_praca', 'descricao_praca']], on= 'id_praca', how= 'left')\n",
    "\n",
    "fechamentos = fechamentos.dropna(subset=['id_pedido'])"
   ]
  },
  {
   "cell_type": "code",
   "execution_count": null,
   "metadata": {},
   "outputs": [],
   "source": [
    "todosAnoSem = pd.concat([fechamentos['ano_sem_pedido'], fechamentos['ano_sem_cobranca']]).unique() # type: ignore\n"
   ]
  },
  {
   "cell_type": "code",
   "execution_count": null,
   "metadata": {},
   "outputs": [],
   "source": [
    "todosAnoSem = pd.concat([fechamentos['ano_sem_pedido'], fechamentos['ano_sem_cobranca']]).unique() # type: ignore\n",
    "\n",
    "fechamentos['ano_sem_pedido_data'] = fechamentos['ano_sem_pedido']\n",
    "fechamentos['ano_mes_pedido'] = fechamentos['ano_sem_pedido']\n",
    "fechamentos['ano_pedido'] = fechamentos['ano_sem_pedido']\n",
    "\n",
    "fechamentos['ano_sem_cobranca_data'] = fechamentos['ano_sem_cobranca']\n",
    "fechamentos['ano_mes_cobranca'] = fechamentos['ano_sem_cobranca']\n",
    "fechamentos['ano_cobranca'] = fechamentos['ano_sem_cobranca']\n",
    "\n",
    "for anoSemana in todosAnoSem:\n",
    "    conversor = conversorSemanas(anoSemana)\n",
    "    fechamentos['ano_sem_pedido_data'] = fechamentos['ano_sem_pedido_data'].replace(anoSemana, conversor.dataConvertida)\n",
    "    fechamentos['ano_mes_pedido'] = fechamentos['ano_mes_pedido'].replace(anoSemana, conversor.mesConvertido)\n",
    "    fechamentos['ano_pedido'] = fechamentos['ano_pedido'].replace(anoSemana, conversor.anoConvertido)\n",
    "    \n",
    "    fechamentos['ano_sem_cobranca_data'] = fechamentos['ano_sem_cobranca_data'].replace(anoSemana, conversor.dataConvertida)\n",
    "    fechamentos['ano_mes_cobranca'] = fechamentos['ano_mes_cobranca'].replace(anoSemana, conversor.mesConvertido)\n",
    "    fechamentos['ano_cobranca'] = fechamentos['ano_cobranca'].replace(anoSemana, conversor.anoConvertido)"
   ]
  },
  {
   "cell_type": "code",
   "execution_count": null,
   "metadata": {},
   "outputs": [],
   "source": [
    "#fechamentos = fechamentos.dropna()"
   ]
  },
  {
   "cell_type": "code",
   "execution_count": null,
   "metadata": {},
   "outputs": [],
   "source": [
    "fechamentos.to_csv('data/fechamentos.csv', sep= ';', index= False)"
   ]
  },
  {
   "cell_type": "markdown",
   "metadata": {},
   "source": [
    "# PEDIDOS COMPLETO"
   ]
  },
  {
   "cell_type": "code",
   "execution_count": null,
   "metadata": {},
   "outputs": [],
   "source": [
    "pedidos = pedidos.merge(fechamentos[['id_pedido', 'quant_vendida', 'valor_venda_pedido', 'valor_liquido']], on='id_pedido', how='left')"
   ]
  },
  {
   "cell_type": "code",
   "execution_count": null,
   "metadata": {},
   "outputs": [],
   "source": [
    "pedidos.to_csv(f'data/pedidos.csv', sep= ';', index= False)"
   ]
  },
  {
   "cell_type": "code",
   "execution_count": null,
   "metadata": {},
   "outputs": [],
   "source": [
    "pd.set_option(\"display.max_columns\", None)"
   ]
  },
  {
   "attachments": {},
   "cell_type": "markdown",
   "metadata": {},
   "source": [
    "## Pedidos Peças"
   ]
  },
  {
   "cell_type": "code",
   "execution_count": null,
   "metadata": {},
   "outputs": [],
   "source": [
    "tabela = 'PEDIDOSARTIGOS'\n",
    "artigosPedido = datab.fetchAllSQL(f'SELECT * FROM {tabela}')\n",
    "# indexItens = datab.fetchAllSQL(f\"select rdb$field_name from rdb$relation_fields where rdb$relation_name='{tabela}'\")\n",
    "indexItens = ['id_pedido', 'ref', 'centro_estoque', 'quantidade_entregue','quantidade_devolvida', 'quantidade_vendida', 'quantidade_divergente', 'valor_unitario', 'valor_entregue', 'valor_vendido', 'status', 'id_praca', 'ano_sem_pedido', 'ano_sem_cobranca', 'quantidade_inserida', 'data_troca', 'id_artigo_velho', 'quantidade_devolvida_original', 'comissao', 'saida_remarcada', 'comissao_fixa']\n",
    "artigosPedido = pd.DataFrame(artigosPedido)\n",
    "artigosPedido.columns = (indexItens) # type: ignore"
   ]
  },
  {
   "cell_type": "code",
   "execution_count": null,
   "metadata": {},
   "outputs": [],
   "source": [
    "artigosPedido = artigosPedido.drop(columns= ['centro_estoque', 'quantidade_divergente', 'id_artigo_velho', 'quantidade_devolvida_original', 'saida_remarcada', 'comissao_fixa', 'quantidade_inserida', 'data_troca', 'comissao'])"
   ]
  },
  {
   "cell_type": "code",
   "execution_count": null,
   "metadata": {},
   "outputs": [],
   "source": [
    "artigosPedido.drop(artigosPedido[artigosPedido['ref'] == 1].index, inplace=True)\n",
    "artigosPedido.drop(artigosPedido[artigosPedido['ref'] == 1001].index, inplace=True)"
   ]
  },
  {
   "cell_type": "code",
   "execution_count": null,
   "metadata": {},
   "outputs": [],
   "source": [
    "artigosPedido = pd.merge(artigosPedido, pedidos[['id_pedido', 'cidade', 'uf', 'latitude', 'longitude', 'id_vendedor', 'descricao_vendedor', 'descricao_praca', 'id_sacoleira']], on='id_pedido', how= 'left')\n",
    "artigosPedido = artigosPedido.merge(artigos[['ref', 'artigo', 'id_grupo', 'descricao_grupo']], on='ref', how= 'left')\n"
   ]
  },
  {
   "cell_type": "code",
   "execution_count": null,
   "metadata": {},
   "outputs": [],
   "source": [
    "todosAnoSem = pd.concat([artigosPedido['ano_sem_pedido'], artigosPedido['ano_sem_cobranca']]).unique() # type: ignore\n",
    "\n",
    "artigosPedido['ano_sem_pedido_data'] = artigosPedido['ano_sem_pedido']\n",
    "artigosPedido['ano_mes_pedido'] = artigosPedido['ano_sem_pedido']\n",
    "artigosPedido['ano_pedido'] = artigosPedido['ano_sem_pedido']\n",
    "\n",
    "artigosPedido['ano_sem_cobranca_data'] = artigosPedido['ano_sem_cobranca']\n",
    "artigosPedido['ano_mes_cobranca'] = artigosPedido['ano_sem_cobranca']\n",
    "artigosPedido['ano_cobranca'] = artigosPedido['ano_sem_cobranca']\n",
    "\n",
    "for anoSemana in todosAnoSem: # type: ignore\n",
    "    conversor = conversorSemanas(anoSemana)\n",
    "    artigosPedido['ano_sem_pedido_data'] = artigosPedido['ano_sem_pedido_data'].replace(anoSemana, conversor.dataConvertida)\n",
    "    artigosPedido['ano_mes_pedido'] = artigosPedido['ano_mes_pedido'].replace(anoSemana, conversor.mesConvertido)\n",
    "    artigosPedido['ano_pedido'] = artigosPedido['ano_pedido'].replace(anoSemana, conversor.anoConvertido)\n",
    "    \n",
    "    artigosPedido['ano_sem_cobranca_data'] = artigosPedido['ano_sem_cobranca_data'].replace(anoSemana, conversor.dataConvertida)\n",
    "    artigosPedido['ano_mes_cobranca'] = artigosPedido['ano_mes_cobranca'].replace(anoSemana, conversor.mesConvertido)\n",
    "    artigosPedido['ano_cobranca'] = artigosPedido['ano_cobranca'].replace(anoSemana, conversor.anoConvertido)"
   ]
  },
  {
   "cell_type": "code",
   "execution_count": null,
   "metadata": {},
   "outputs": [],
   "source": [
    "artigosPedido.to_csv(f'data/artigosPedido.csv', sep= ';', index= False)"
   ]
  },
  {
   "attachments": {},
   "cell_type": "markdown",
   "metadata": {},
   "source": [
    "## Desempenhos Praças"
   ]
  },
  {
   "cell_type": "code",
   "execution_count": null,
   "metadata": {},
   "outputs": [],
   "source": [
    "tabela = 'DESEMPENHOPRACAS'\n",
    "desempenhoPraca = datab.fetchAllSQL(f'SELECT * FROM {tabela}')\n",
    "indexItens = datab.fetchAllSQL(f\"select rdb$field_name from rdb$relation_fields where rdb$relation_name='{tabela}'\")\n",
    "indexItens = ['id_desempenhopraca', 'id_praca', 'ano_sem_cobranca', 'id_vendedor', 'valor_total_venda', 'pedidos_novos', 'pedidos_digitados', 'pedidos_fechados', 'pedidos_pepinos', 'nao_sei', 'total_bruto_cobranca', 'total_novos_pepinos', 'per_pepino_cobranca', 'valor_recebido', 'valor_pepino_recebidos', 'total_recebido', 'media_comissao_cliente', 'vl_total_pedidos_liquido', 'fator_cobranca', 'valor_comissao_vendedor', 'comissao_vendedor_valor', 'ajuda_de_custo', 'nao_sei_2', 'faturamento_liquido', 'dinheiro_entregue', 'deposito', 'nao_sei_3', 'cheque', 'nao_sei_5', 'cheques_sf_novos', 'valor_total_pepinos_abertos', 'valor_pepinos_cobranca_anterior', 'valor_total_cheques_abertos', 'valor_cheques_cobranca_anterior', 'pedidos_novos_pep', 'codigo_pep_ab', 'pedidos_novos_ch_ab', 'codigo_cheques_ab', 'nao_sei_10', 'cliente_abaixo_meta', 'cod_clientes_abaixo_meta', 'clientes_novos', 'valor_medio_recebido', 'cartao', 'ano_sem_ped', 'nao_sei_6', 'valor_desconto', 'per_com_ven_sc', 'valor_com_vend_sc', 'per_com_vend_fix', 'valor_com_vend_rt_fix', 'clientes_venda_media_abaixo_meta', 'clientes_ped_novo_abaixo_meta', 'clientes_ped_novo_media_abaixo_meta', 'pedidos_transferidos_cobrados', 'notas_reais', 'per_comissao_cliente', 'valor_comissao_cliente', 'pd_venda', 'valor_total_pd_venda']\n",
    "desempenhoPraca = pd.DataFrame(desempenhoPraca)\n",
    "desempenhoPraca.columns = (indexItens)"
   ]
  },
  {
   "cell_type": "code",
   "execution_count": null,
   "metadata": {},
   "outputs": [],
   "source": [
    "desempenhoPraca = pd.merge(desempenhoPraca, pracas[['id_praca','descricao_praca', 'status_praca']], on= 'id_praca')\n",
    "desempenhoPraca = pd.merge(desempenhoPraca, vendedores[['id_vendedor', 'descricao_vendedor']], on= 'id_vendedor')\n"
   ]
  },
  {
   "cell_type": "code",
   "execution_count": null,
   "metadata": {},
   "outputs": [],
   "source": [
    "desempenhoPraca['ano_sem_pedido_data'] = desempenhoPraca['ano_sem_ped'].apply(lambda x: pd.to_datetime(x+'/1', format= '%y/%W/%w'))\n",
    "desempenhoPraca['ano_sem_cobranca_data'] = desempenhoPraca['ano_sem_cobranca'].apply(lambda x: pd.to_datetime(x+'/1', format= '%y/%W/%w'))\n",
    "desempenhoPraca['ano_mes_pedido'] = desempenhoPraca['ano_sem_pedido_data'].dt.strftime('%Y-%m')\n",
    "desempenhoPraca['ano_mes_cobranca'] = desempenhoPraca['ano_sem_cobranca_data'].dt.strftime('%Y-%m')\n",
    "desempenhoPraca['ano_cobranca'] = desempenhoPraca['ano_sem_cobranca_data'].dt.strftime('%Y').astype(int)\n",
    "desempenhoPraca['mes_cobranca'] = desempenhoPraca['ano_sem_cobranca_data'].dt.strftime('%m').astype(int)"
   ]
  },
  {
   "cell_type": "code",
   "execution_count": null,
   "metadata": {},
   "outputs": [],
   "source": [
    "desempenhoPraca = desempenhoPraca.drop(columns= ['nao_sei', 'per_pepino_cobranca', 'nao_sei_2', 'dinheiro_entregue', 'deposito', 'nao_sei_3', 'cheque', 'nao_sei_5', 'cheques_sf_novos', 'valor_total_pepinos_abertos', 'valor_pepinos_cobranca_anterior', 'valor_total_cheques_abertos', 'valor_cheques_cobranca_anterior', 'pedidos_novos_pep', 'codigo_pep_ab', 'pedidos_novos_ch_ab', 'codigo_cheques_ab', 'nao_sei_10', 'cartao', 'nao_sei_6', 'valor_desconto', 'per_com_ven_sc', 'valor_com_vend_sc', 'per_com_vend_fix', 'valor_com_vend_rt_fix', 'pedidos_transferidos_cobrados', 'notas_reais', 'per_comissao_cliente', 'valor_comissao_cliente', 'pd_venda', 'valor_total_pd_venda'])  # type: ignore\n"
   ]
  },
  {
   "cell_type": "code",
   "execution_count": null,
   "metadata": {},
   "outputs": [],
   "source": []
  },
  {
   "cell_type": "code",
   "execution_count": null,
   "metadata": {},
   "outputs": [],
   "source": [
    "desempenhoPraca.to_csv('data/desempenhoPraca.csv', sep= ';', index= False)"
   ]
  },
  {
   "attachments": {},
   "cell_type": "markdown",
   "metadata": {},
   "source": [
    "## Outros"
   ]
  },
  {
   "cell_type": "code",
   "execution_count": null,
   "metadata": {},
   "outputs": [],
   "source": []
  },
  {
   "cell_type": "code",
   "execution_count": null,
   "metadata": {},
   "outputs": [],
   "source": []
  },
  {
   "cell_type": "code",
   "execution_count": null,
   "metadata": {},
   "outputs": [],
   "source": []
  }
 ],
 "metadata": {
  "kernelspec": {
   "display_name": "Python 3",
   "language": "python",
   "name": "python3"
  },
  "language_info": {
   "codemirror_mode": {
    "name": "ipython",
    "version": 3
   },
   "file_extension": ".py",
   "mimetype": "text/x-python",
   "name": "python",
   "nbconvert_exporter": "python",
   "pygments_lexer": "ipython3",
   "version": "3.12.0"
  },
  "orig_nbformat": 4,
  "vscode": {
   "interpreter": {
    "hash": "bea294ee008d20969dc05d3aa98cf932d33529394c06cf2ff24ec82670e3759e"
   }
  }
 },
 "nbformat": 4,
 "nbformat_minor": 2
}
