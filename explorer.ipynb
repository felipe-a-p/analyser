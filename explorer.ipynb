{
 "cells": [
  {
   "cell_type": "code",
   "execution_count": null,
   "metadata": {},
   "outputs": [],
   "source": [
    "import pandas as pd\n",
    "import ipywidgets as widgets\n",
    "import datetime as dt\n",
    "from datetime import datetime\n",
    "from IPython.display import display, clear_output\n",
    "import matplotlib.pyplot as plt\n"
   ]
  },
  {
   "cell_type": "code",
   "execution_count": null,
   "metadata": {},
   "outputs": [],
   "source": [
    "pd.set_option(\"display.max_columns\", None)\n",
    "pd.set_option(\"display.max_rows\", None)"
   ]
  },
  {
   "cell_type": "markdown",
   "metadata": {},
   "source": []
  },
  {
   "cell_type": "code",
   "execution_count": null,
   "metadata": {},
   "outputs": [],
   "source": [
    "def exportarDados(dataframe):\n",
    "    agora = datetime.now()\n",
    "    export = agora.strftime('%Y-%m-%d_%H-%M-%S')\n",
    "    export_df = dataframe.reset_index()\n",
    "    export_df.to_excel(f\"export/dataframe_exportado_{export}.xlsx\", index=True)"
   ]
  },
  {
   "cell_type": "code",
   "execution_count": null,
   "metadata": {},
   "outputs": [],
   "source": [
    "artigosPedido = pd.read_csv('data/artigosPedido.csv', sep=';')\n",
    "desempenhoPraca = pd.read_csv('data/desempenhoPraca.csv', sep=';')\n",
    "sacoleiras = pd.read_csv('data/sacoleiras.csv', sep=';')\n",
    "pedidos = pd.read_csv('data/pedidos.csv', sep=';')\n",
    "artigos = pd.read_csv('data/artigos.csv', sep=';')"
   ]
  },
  {
   "cell_type": "code",
   "execution_count": null,
   "metadata": {},
   "outputs": [],
   "source": [
    "artigosPedido.head()"
   ]
  },
  {
   "cell_type": "code",
   "execution_count": null,
   "metadata": {},
   "outputs": [],
   "source": [
    "artigosPedido.head()"
   ]
  },
  {
   "cell_type": "code",
   "execution_count": null,
   "metadata": {},
   "outputs": [],
   "source": [
    "pedidos['status'].unique()"
   ]
  },
  {
   "cell_type": "code",
   "execution_count": null,
   "metadata": {},
   "outputs": [],
   "source": [
    "def teste_seman_cobranca(vendedor):\n",
    "    df = pedidos[pedidos['ano_cobranca'] > 2022]\n",
    "    df = df[df['id_vendedor'] == vendedor]\n",
    "    df = df[(df['status'].isin(['FECHADO', 'PEPINO']))]\n",
    "\n",
    "    df = df[(df['status'].isin(['FECHADO']))]\n",
    "    df['ano_sem_cobranca_data'] = pd.to_datetime(df['ano_sem_cobranca_data'])\n",
    "    df.loc[:, 'parte_do_mes'] = df['ano_sem_cobranca_data'].dt.day / df['ano_sem_cobranca_data'].dt.days_in_month\n",
    "    df.loc[:, 'parte_do_mes'] = pd.cut(df['parte_do_mes'], bins=[0, 0.25, 0.5, 0.75, 1.0], labels=['1a', '2a', '3a', '4a'])\n",
    "    resumo_mensal = df.groupby(['parte_do_mes', df['ano_sem_cobranca_data'].dt.month, 'status' ]).agg({'valor_liquido': 'sum'}).reset_index()\n",
    "    pivot = pd.pivot_table(df, values = 'valor_liquido', index = ['parte_do_mes', 'status'], aggfunc='sum')\n",
    "    pivot2 = pd.pivot_table(df, values = 'valor_liquido', index = ['parte_do_mes', 'status'], aggfunc='sum')\n",
    "    pivot2['porcentagem_do_total'] = pivot2.groupby(['status'])['valor_liquido'].transform(lambda x: (x / x.sum()) * 100)\n",
    "    return pivot2"
   ]
  },
  {
   "cell_type": "code",
   "execution_count": null,
   "metadata": {},
   "outputs": [],
   "source": [
    "teste_seman_cobranca(3)"
   ]
  },
  {
   "cell_type": "code",
   "execution_count": null,
   "metadata": {},
   "outputs": [],
   "source": [
    "teste_seman_cobranca(17)"
   ]
  },
  {
   "cell_type": "code",
   "execution_count": null,
   "metadata": {},
   "outputs": [],
   "source": [
    "teste_seman_cobranca(1)"
   ]
  },
  {
   "cell_type": "code",
   "execution_count": null,
   "metadata": {},
   "outputs": [],
   "source": [
    "desempenhoPraca.columns"
   ]
  },
  {
   "cell_type": "code",
   "execution_count": null,
   "metadata": {},
   "outputs": [],
   "source": [
    "artigosPedido.columns"
   ]
  },
  {
   "cell_type": "code",
   "execution_count": null,
   "metadata": {},
   "outputs": [],
   "source": [
    "base_pedidos = pd.read_csv('data/pedidos.csv', sep=';')\n",
    "base_pedidos.columns"
   ]
  },
  {
   "cell_type": "code",
   "execution_count": null,
   "metadata": {},
   "outputs": [],
   "source": [
    "class MainApp:\n",
    "    def __init__(self):\n",
    "        self.load_data()\n",
    "        self.create_layout()\n",
    "        self._update_termos()    \n",
    "        \n",
    "    def filtrar(self, df):\n",
    "        if df == 'artigosPedido':\n",
    "            retorno = self.base_artigosPedido.query(\"ref in @self.filtro_artigos and @self.filtro_dataInicial <= ano_mes_cobranca <= @self.filtro_dataFinal and id_vendedor in @self.filtro_promotores and id_praca in @self.filtro_pracas \")\n",
    "            retorno = pd.merge(retorno, self.base_artigos[['ref','artigo', 'descricao_grupo']], on='ref')\n",
    "            retorno = pd.merge(retorno, self.base_pracas[['id_praca','descricao_praca']])\n",
    "            retorno = pd.merge(retorno, self.base_vendedores[['id_vendedor', 'descricao_vendedor']], on='id_vendedor')\n",
    "            \n",
    "            return retorno\n",
    "        \n",
    "        elif df == 'pedidos':\n",
    "            retorno = self.base_pedidos.query(\"@self.filtro_dataInicial <= ano_mes_cobranca <= @self.filtro_dataFinal and id_vendedor in @self.filtro_promotores and id_praca in @self.filtro_pracas \")\n",
    "            retorno = pd.merge(retorno, self.base_pracas[['id_praca','descricao_praca']])\n",
    "            retorno = pd.merge(retorno, self.base_vendedores[['id_vendedor', 'descricao_vendedor']], on='id_vendedor')\n",
    "            retorno = pd.merge(retorno, self.base_sacoleiras[['id_sacoleira', 'cidade', 'nome', ]], on='id_sacoleira')\n",
    "            return retorno\n",
    "        \n",
    "        elif df == 'desempenhos':\n",
    "            retorno = self.base_desempenhoPraca.query(\"@self.filtro_dataInicial <= ano_mes_cobranca <= @self.filtro_dataFinal and id_vendedor in @self.filtro_promotores and id_praca in @self.filtro_pracas \")\n",
    "        \n",
    "        else:\n",
    "            return 0\n",
    "    \n",
    "    def load_data(self):\n",
    "        self.base_vendedores = pd.read_csv('data/vendedores.csv', sep=';')\n",
    "        self.base_pracas = pd.read_csv('data/pracas.csv', sep=';')\n",
    "        self.base_desempenhoPraca = pd.read_csv('data/desempenhoPraca.csv', sep=';')\n",
    "        self.base_pedidos = pd.read_csv('data/pedidos.csv', sep=';')\n",
    "        self.base_sacoleiras = pd.read_csv('data/sacoleiras.csv', sep=';')\n",
    "        self.base_artigosPedido = pd.read_csv('data/artigosPedido.csv', sep=';')\n",
    "        self.base_gruposArtigos = pd.read_csv('data/grupos.csv', sep=';')\n",
    "        self.base_artigos = pd.read_csv('data/artigos.csv', sep=';')\n",
    "        self.base_artigosPedido['ano_mes_cobranca'] = pd.to_datetime(self.base_artigosPedido['ano_mes_cobranca'], format='%m/%Y').dt.date\n",
    "        self.base_desempenhoPraca['ano_mes_cobranca'] = pd.to_datetime(self.base_desempenhoPraca['ano_mes_cobranca'], format='%Y-%m').dt.date\n",
    "        self.base_pedidos['ano_mes_cobranca'] = pd.to_datetime(self.base_pedidos['ano_mes_cobranca'], format='%m/%Y').dt.date\n",
    "        \n",
    "    def create_layout(self):\n",
    "        # Promotor\n",
    "        self.check_soPromotorEPracaAtivo = widgets.Checkbox(description=\"Só Ativas?\", value=True)\n",
    "        listaPromotores = self.get_lista_promotores()\n",
    "        self.select_promotores = widgets.SelectMultiple(description='Promotor(es)', options=listaPromotores, value=[promotor[1] for promotor in listaPromotores])\n",
    "        self.check_todosPromotores = widgets.Checkbox(description=\"Todos\", value=False)\n",
    "        self.box_promotores = widgets.HBox(children=[self.select_promotores, self.check_todosPromotores])\n",
    "        \n",
    "        # Praça\n",
    "        listaPracas = self.get_lista_pracas()\n",
    "        self.select_pracas = widgets.SelectMultiple(description='Praça(s)', options=listaPracas, value=[praca[1] for praca in listaPracas])\n",
    "        self.check_todasPracas = widgets.Checkbox(description=\"Todas\", value=False)\n",
    "        self.box_pracas = widgets.HBox(children=[self.select_pracas, self.check_todasPracas])\n",
    "        self.box_promotorPraca = widgets.HBox(children=[self.box_promotores, self.box_pracas, self.check_soPromotorEPracaAtivo])\n",
    "        \n",
    "        # Periodo\n",
    "        self.dateP_dataInicial = widgets.DatePicker(description='Data Inicial Cobrança', value=dt.date.today() - dt.timedelta(days=2 * 30))\n",
    "        self.dateP_dataFinal = widgets.DatePicker(description='Data Final Cobrança', value=dt.date.today() + dt.timedelta(days=2 * 30))\n",
    "        self.box_periodo = widgets.HBox(children=[self.dateP_dataInicial, self.dateP_dataFinal])\n",
    "        \n",
    "        # Grupos e Artigos\n",
    "        listaGrupos = self.get_lista_grupos()\n",
    "        self.select_gruposArtigos = widgets.SelectMultiple(description='Grupos', options=listaGrupos, value=[grupo[1] for grupo in listaGrupos])\n",
    "        self.check_todosGrupos = widgets.Checkbox(description='Todos', value=False)\n",
    "        listaArtigos = self.get_lista_artigos()\n",
    "        self.select_artigos = widgets.SelectMultiple(description='Artigos', options=listaArtigos, value=[artigo[1] for artigo in listaArtigos])\n",
    "        self.check_todosArtigos = widgets.Checkbox(description='Todos', value=False)\n",
    "        self.box_gruposArtigos = widgets.HBox(children=[self.select_gruposArtigos, self.check_todosGrupos, self.select_artigos, self.check_todosArtigos])\n",
    "\n",
    "        self.filtros_app = [self.box_promotorPraca, self.box_periodo, self.box_gruposArtigos]\n",
    "        self.box_filtros = widgets.VBox(children=self.filtros_app)\n",
    "        self.display_app = widgets.HBox(children=[widgets.Output()])\n",
    "        self.tab_apps = widgets.Tab(children=[self.display_app])\n",
    "        self.box_fixos = [self.box_filtros]\n",
    "        self.box_main = widgets.VBox(children=self.box_fixos)\n",
    "\n",
    "        # Add observers to all widgets\n",
    "        self.add_observer_to_widgets(self.box_filtros)\n",
    "\n",
    "        # Display the nested boxes\n",
    "        display(self.box_main)\n",
    "    \n",
    "    def get_lista_promotores(self):\n",
    "        listaPromotores = []\n",
    "        promotores = self.base_vendedores.sort_values(by='descricao_vendedor', ascending=True)\n",
    "        if self.check_soPromotorEPracaAtivo.value:\n",
    "            promotores = promotores.query('status_vendedor == \"ATIVO\"')\n",
    "\n",
    "        for _, linha in promotores.iterrows():\n",
    "            tupla = (linha['descricao_vendedor'], linha['id_vendedor'])\n",
    "            listaPromotores.append(tupla)\n",
    "        return listaPromotores\n",
    "\n",
    "    def get_lista_pracas(self):\n",
    "        listaPracas = []\n",
    "        promotores = self.select_promotores.value\n",
    "        pracas = self.base_pracas.query('id_vendedor.isin(@promotores)')\n",
    "        pracas = pracas.sort_values(by='descricao_praca', ascending=True)\n",
    "\n",
    "        if self.check_soPromotorEPracaAtivo.value:\n",
    "            pracas = pracas.query('status_praca == \"ATIVO\"')\n",
    "\n",
    "        for _, linha in pracas.iterrows():\n",
    "            tupla = (linha['descricao_praca'], linha['id_praca'])\n",
    "            listaPracas.append(tupla)\n",
    "\n",
    "        return listaPracas\n",
    "\n",
    "    def get_lista_grupos(self):\n",
    "        listaGrupos = []\n",
    "        grupos = self.base_gruposArtigos\n",
    "        grupos = grupos.sort_values(by='descricao_grupo', ascending=True)\n",
    "\n",
    "        for _, linha in grupos.iterrows():\n",
    "            tupla = (linha['descricao_grupo'], linha['id_grupo'])\n",
    "            listaGrupos.append(tupla)\n",
    "\n",
    "        return listaGrupos\n",
    "\n",
    "    def get_lista_artigos(self):\n",
    "        listaArtigos = []\n",
    "        grupos = self.select_gruposArtigos.value\n",
    "        artigos = self.base_artigos.query('id_grupo.isin(@grupos)')\n",
    "        artigos = artigos.sort_values(by='artigo', ascending=True)\n",
    "\n",
    "        if self.check_soPromotorEPracaAtivo.value:\n",
    "            artigos = artigos.query('status_artigo == \"ATIVO\"')\n",
    "\n",
    "        for _, linha in artigos.iterrows():\n",
    "            tupla = (linha['artigo'], linha['ref'])\n",
    "            listaArtigos.append(tupla)\n",
    "\n",
    "        return listaArtigos\n",
    "\n",
    "    def add_observer_to_widgets(self, widget):\n",
    "        # Specific functions\n",
    "        self.select_promotores.observe(self._promotor_selecionado, names='value') # type: ignore\n",
    "        self.select_gruposArtigos.observe(self._grupos_selecionados, names='value') # type: ignore\n",
    "        self.check_todosPromotores.observe(self._selecionar_todos_promotores, names='value') # type: ignore\n",
    "        self.check_todasPracas.observe(self._selecionar_todas_pracas, names='value') # type: ignore\n",
    "        self.check_todosGrupos.observe(self._selecionar_todos_grupos, names='value') # type: ignore\n",
    "        self.check_todosArtigos.observe(self._selecionar_todos_artigos, names='value') # type: ignore\n",
    "\n",
    "        # General function\n",
    "        if isinstance(widget, (widgets.Box, widgets.VBox, widgets.HBox, widgets.GridBox)):\n",
    "            for child_widget in widget.children: # type: ignore\n",
    "                self.add_observer_to_widgets(child_widget)\n",
    "        elif isinstance(widget, widgets.Widget):\n",
    "            widget.observe(self.normal_object_updated, names='value') # type: ignore\n",
    "\n",
    "    def normal_object_updated(self, change):\n",
    "        if change['new'] == ():\n",
    "            pass\n",
    "        else:\n",
    "            self._update_termos()\n",
    "                \n",
    "    def _update_termos(self):\n",
    "        # Convertendo as strings das datas para o formato \"mm/aaaa\"\n",
    "        data_inicial_str = self.dateP_dataInicial.value.strftime(\"%m/%Y\") # type: ignore\n",
    "        data_final_str = self.dateP_dataFinal.value.strftime(\"%m/%Y\") # type: ignore\n",
    "\n",
    "        # Convertendo as strings para o tipo datetime\n",
    "        data_inicial = datetime.strptime(data_inicial_str, \"%m/%Y\").date()\n",
    "        data_final = datetime.strptime(data_final_str, \"%m/%Y\").date()\n",
    "\n",
    "        self.filtro_promotores = self.select_promotores.value\n",
    "        self.filtro_pracas= self.select_pracas.value\n",
    "        self.filtro_dataInicial = data_inicial\n",
    "        self.filtro_dataFinal= data_final\n",
    "        self.filtro_artigos = self.select_artigos.value\n",
    "\n",
    "    def set_funcao(self):\n",
    "        funcao_selecionada = getattr(self.select_app.value, self.select_funcao.value) # type: ignore\n",
    "        funcao_selecionada()\n",
    "\n",
    "    def _updateOptionsPracas(self):\n",
    "        self.select_pracas.options = self.get_lista_pracas()\n",
    "\n",
    "    def _updateOptionsArtigos(self):\n",
    "        self.select_artigos.options = self.get_lista_artigos()\n",
    "        self.select_artigos.value = [artigo[1] for artigo in self.get_lista_artigos()]\n",
    "\n",
    "    def _promotor_selecionado(self, change):\n",
    "        self._updateOptionsPracas()\n",
    "\n",
    "    def _grupos_selecionados(self, change):\n",
    "        self._updateOptionsArtigos()\n",
    "\n",
    "    def _selecionar_todos_promotores(self, change):\n",
    "        if change['new']:\n",
    "            self.select_promotores.value = [promotor[1] for promotor in self.get_lista_promotores()]\n",
    "        else:\n",
    "            self.select_promotores.value = []\n",
    "\n",
    "    def _selecionar_todas_pracas(self, change):\n",
    "        if change['new']:\n",
    "            self.select_pracas.value = [praca[1] for praca in self.get_lista_pracas()]\n",
    "        else:\n",
    "            self.select_pracas.value = []\n",
    "\n",
    "    def _selecionar_todos_grupos(self, change):\n",
    "        if change['new']:\n",
    "            self.select_gruposArtigos.value = [grupo[1] for grupo in self.get_lista_grupos()]\n",
    "        else:\n",
    "            self.select_gruposArtigos.value = []\n",
    "\n",
    "    def _selecionar_todos_artigos(self, change):\n",
    "        if change['new']:\n",
    "            self.select_artigos.value = [artigo[1] for artigo in self.get_lista_artigos()]\n",
    "        else:\n",
    "            self.select_artigos.value = []\n"
   ]
  },
  {
   "cell_type": "code",
   "execution_count": null,
   "metadata": {},
   "outputs": [],
   "source": [
    "base = MainApp()"
   ]
  },
  {
   "cell_type": "markdown",
   "metadata": {},
   "source": []
  },
  {
   "cell_type": "code",
   "execution_count": null,
   "metadata": {},
   "outputs": [],
   "source": [
    "artigosPedido = base.filtrar('desempenhos')"
   ]
  },
  {
   "cell_type": "code",
   "execution_count": null,
   "metadata": {},
   "outputs": [],
   "source": [
    "artigosPedido.head()"
   ]
  },
  {
   "cell_type": "code",
   "execution_count": null,
   "metadata": {},
   "outputs": [],
   "source": [
    "group = artigosPedido.groupby(by'')"
   ]
  },
  {
   "cell_type": "code",
   "execution_count": null,
   "metadata": {},
   "outputs": [],
   "source": []
  }
 ],
 "metadata": {
  "kernelspec": {
   "display_name": "base",
   "language": "python",
   "name": "python3"
  },
  "language_info": {
   "codemirror_mode": {
    "name": "ipython",
    "version": 3
   },
   "file_extension": ".py",
   "mimetype": "text/x-python",
   "name": "python",
   "nbconvert_exporter": "python",
   "pygments_lexer": "ipython3",
   "version": "3.11.5"
  },
  "orig_nbformat": 4
 },
 "nbformat": 4,
 "nbformat_minor": 2
}
