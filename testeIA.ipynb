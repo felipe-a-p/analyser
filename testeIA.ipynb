{
 "cells": [
  {
   "cell_type": "code",
   "execution_count": 1,
   "metadata": {},
   "outputs": [],
   "source": [
    "import pandas as pd\n",
    "import ipywidgets as widgets\n",
    "import datetime as dt\n",
    "from datetime import datetime\n",
    "import matplotlib.pyplot as plt\n"
   ]
  },
  {
   "cell_type": "markdown",
   "metadata": {},
   "source": [
    "## Dados crus"
   ]
  },
  {
   "cell_type": "code",
   "execution_count": 2,
   "metadata": {},
   "outputs": [],
   "source": [
    "vendedores = pd.read_csv('data/vendedores.csv', sep=';')\n",
    "pracas = pd.read_csv('data/pracas.csv', sep=';')\n",
    "desempenhoPraca = pd.read_csv('data/desempenhoPraca.csv', sep=';')\n",
    "pedidos = pd.read_csv('data/pedidos.csv', sep=';')\n",
    "sacoleiras = pd.read_csv('data/sacoleiras.csv', sep=';')\n",
    "artigosPedido = pd.read_csv('data/artigosPedido.csv', sep=';')\n",
    "gruposArtigos = pd.read_csv('data/grupos.csv', sep=';')\n",
    "artigos = pd.read_csv('data/artigos.csv', sep=';')\n",
    "infoCidades = pd.read_csv('data/cidades.csv', sep=';')"
   ]
  },
  {
   "cell_type": "markdown",
   "metadata": {},
   "source": [
    "## LIMPEZA"
   ]
  },
  {
   "cell_type": "code",
   "execution_count": 17,
   "metadata": {},
   "outputs": [
    {
     "name": "stdout",
     "output_type": "stream",
     "text": [
      "<class 'pandas.core.frame.DataFrame'>\n",
      "RangeIndex: 10725 entries, 0 to 10724\n",
      "Data columns (total 21 columns):\n",
      " #   Column           Non-Null Count  Dtype  \n",
      "---  ------           --------------  -----  \n",
      " 0   id_praca         10725 non-null  int64  \n",
      " 1   id_sacoleira     10725 non-null  int64  \n",
      " 2   nome             10725 non-null  object \n",
      " 3   status           10725 non-null  object \n",
      " 4   primeiro_pedido  9886 non-null   object \n",
      " 5   ultimo_pedido    8002 non-null   object \n",
      " 6   identidade       2689 non-null   object \n",
      " 7   cpf              10629 non-null  object \n",
      " 8   endereco         10701 non-null  object \n",
      " 9   complemento      3999 non-null   object \n",
      " 10  bairro           10676 non-null  object \n",
      " 11  cidade           10725 non-null  object \n",
      " 12  uf               10725 non-null  object \n",
      " 13  cep              10725 non-null  object \n",
      " 14  telefone         10488 non-null  object \n",
      " 15  observacao       611 non-null    object \n",
      " 16  data_nascimento  7735 non-null   object \n",
      " 17  gps              10621 non-null  float64\n",
      " 18  latitude         10725 non-null  float64\n",
      " 19  longitude        10725 non-null  float64\n",
      " 20  idade            10725 non-null  int64  \n",
      "dtypes: float64(3), int64(3), object(15)\n",
      "memory usage: 1.7+ MB\n"
     ]
    }
   ],
   "source": [
    "sacoleiras.info()"
   ]
  },
  {
   "cell_type": "code",
   "execution_count": null,
   "metadata": {},
   "outputs": [],
   "source": []
  }
 ],
 "metadata": {
  "kernelspec": {
   "display_name": "base",
   "language": "python",
   "name": "python3"
  },
  "language_info": {
   "codemirror_mode": {
    "name": "ipython",
    "version": 3
   },
   "file_extension": ".py",
   "mimetype": "text/x-python",
   "name": "python",
   "nbconvert_exporter": "python",
   "pygments_lexer": "ipython3",
   "version": "3.11.4"
  }
 },
 "nbformat": 4,
 "nbformat_minor": 2
}
